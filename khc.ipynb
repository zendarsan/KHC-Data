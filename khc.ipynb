{
 "cells": [
  {
   "cell_type": "code",
   "execution_count": 1,
   "metadata": {},
   "outputs": [],
   "source": [
    "import requests\n",
    "from bs4 import BeautifulSoup\n",
    "import re\n",
    "import csv\n",
    "import time\n",
    "from os.path import exists\n",
    "current_record = 0"
   ]
  },
  {
   "cell_type": "code",
   "execution_count": 7,
   "metadata": {},
   "outputs": [
    {
     "name": "stdout",
     "output_type": "stream",
     "text": [
      "ERROR 5651 list index out of range\n",
      "ERROR 8253 list index out of range\n",
      "ERROR 9007 list index out of range\n",
      "ERROR 15310 list index out of range\n",
      "ERROR 15461 list index out of range\n",
      "ERROR 15885 list index out of range\n",
      "ERROR 16353 list index out of range\n",
      "ERROR 17497 list index out of range\n"
     ]
    },
    {
     "ename": "IndexError",
     "evalue": "list index out of range",
     "output_type": "error",
     "traceback": [
      "\u001b[1;31m---------------------------------------------------------------------------\u001b[0m",
      "\u001b[1;31mIndexError\u001b[0m                                Traceback (most recent call last)",
      "Input \u001b[1;32mIn [7]\u001b[0m, in \u001b[0;36m<module>\u001b[1;34m\u001b[0m\n\u001b[0;32m     14\u001b[0m \u001b[38;5;28;01mfor\u001b[39;00m x \u001b[38;5;129;01min\u001b[39;00m \u001b[38;5;28mrange\u001b[39m(current_record, \u001b[38;5;28mlen\u001b[39m(cases)):\n\u001b[0;32m     15\u001b[0m     prep_stage \u001b[38;5;241m=\u001b[39m cases[x]\u001b[38;5;241m.\u001b[39msplit(\u001b[38;5;124m\"\u001b[39m\u001b[38;5;124m~\u001b[39m\u001b[38;5;124m\"\u001b[39m)\n\u001b[1;32m---> 16\u001b[0m     cino \u001b[38;5;241m=\u001b[39m \u001b[43mprep_stage\u001b[49m\u001b[43m[\u001b[49m\u001b[38;5;241;43m3\u001b[39;49m\u001b[43m]\u001b[49m\n\u001b[0;32m     17\u001b[0m     case_no \u001b[38;5;241m=\u001b[39m prep_stage[\u001b[38;5;241m0\u001b[39m]\n\u001b[0;32m     18\u001b[0m     \u001b[38;5;66;03m#print(current_record, cino, case_no)\u001b[39;00m\n",
      "\u001b[1;31mIndexError\u001b[0m: list index out of range"
     ]
    }
   ],
   "source": [
    "with open(\"WP2021.txt\", 'r') as f:\n",
    "    cases = f.read()\n",
    "    year = 2020\n",
    "\n",
    "\n",
    "csv_file = open('2021records_new.csv','a', encoding='utf-8', newline='')\n",
    "csvwriter = csv.writer(csv_file)\n",
    "if current_record == 0:\n",
    "    fields = ['P1', \"P2\", \"P3\", \"P4\", \"P_Total\", 'P_Advocate', 'R1',\"R2\", \"R3\", \"R4\",\"R_Total\", 'filing_number', 'filing_year', 'filing_date', 'registration_number', 'registration_year', 'registration_date','cnr', 'judge', 'bench','statute', 'provision', 'first_hearing', 'stage', 'category', 'sub_category', 'sub_sub_category', 'last_hearing_date', 'disposed_date', 'disposal_type'\n",
    "]\n",
    "    csvwriter.writerow(fields) \n",
    "\n",
    "cases = cases.split(\"##\")\n",
    "for x in range(current_record, len(cases)):\n",
    "    prep_stage = cases[x].split(\"~\")\n",
    "    cino = prep_stage[3]\n",
    "    case_no = prep_stage[0]\n",
    "    #print(current_record, cino, case_no)\n",
    "    for i in range(5):\n",
    "        try:\n",
    "            page, downloaded = get_case_deets(cino, case_no)\n",
    "            soup = BeautifulSoup(page)\n",
    "            break\n",
    "        except Exception as e:\n",
    "            time.sleep(0.5+i)\n",
    "            print(e, \"Retrying\")\n",
    "    else:\n",
    "        current_record+=1\n",
    "        continue\n",
    "\n",
    "    try:\n",
    "        row = process(soup)\n",
    "        print_all(soup)\n",
    "        #print(row)\n",
    "        #print()\n",
    "    except Exception as e:\n",
    "        print(\"ERROR\", current_record, e)\n",
    "        \n",
    "    if row != 0:\n",
    "        csvwriter.writerow(row)\n",
    "    current_record+=1\n",
    "    if not downloaded:\n",
    "        with open(f\"case_files/{year}_{current_record}.html\", 'w', encoding=\"utf-8\") as f:\n",
    "            f.write(str(soup))"
   ]
  },
  {
   "cell_type": "code",
   "execution_count": 8,
   "metadata": {},
   "outputs": [],
   "source": [
    "csv_file.close()"
   ]
  },
  {
   "cell_type": "code",
   "execution_count": 3,
   "metadata": {},
   "outputs": [],
   "source": [
    "def get_case_deets(cino, case_no):\n",
    "    if exists(f\"case_files/2021_{current_record}.html\"):\n",
    "      with open(f\"case_files/2021_{current_record}.html\", 'r',encoding='utf-8') as f:\n",
    "          #print('Existing reads')\n",
    "          return (f.read(), 1)\n",
    "    s = requests.Session()\n",
    "    s.get(\"https://services.ecourts.gov.in/ecourtindiaHC/cases/s_casetype.php?state_cd=3&dist_cd=1&court_code=1&stateNm=Karnataka#\")\n",
    "\n",
    "\n",
    "    headers = {\n",
    "        'Connection': 'keep-alive',\n",
    "        'sec-ch-ua': '\" Not;A Brand\";v=\"99\", \"Microsoft Edge\";v=\"97\", \"Chromium\";v=\"97\"',\n",
    "        'DNT': '1',\n",
    "        'sec-ch-ua-mobile': '?0',\n",
    "        'User-Agent': 'Mozilla/5.0 (Windows NT 10.0; Win64; x64) AppleWebKit/537.36 (KHTML, like Gecko) Chrome/97.0.4692.71 Safari/537.36 Edg/97.0.1072.55',\n",
    "        'sec-ch-ua-platform': '\"Windows\"',\n",
    "        'Content-Type': 'application/x-www-form-urlencoded',\n",
    "        'Accept': '*/*',\n",
    "        'Origin': 'https://services.ecourts.gov.in',\n",
    "        'Sec-Fetch-Site': 'same-origin',\n",
    "        'Sec-Fetch-Mode': 'cors',\n",
    "        'Sec-Fetch-Dest': 'empty',\n",
    "        'Referer': 'https://services.ecourts.gov.in/',\n",
    "        'Accept-Language': 'en-US,en;q=0.9',\n",
    "    }\n",
    "\n",
    "    data = {\n",
    "      '__csrf_magic': 'sid:22e25a4a3b8a2c3dd3a08f8c43e207354a236ed2,1641670946',\n",
    "      'state_code': '3',\n",
    "      'dist_code': '1',\n",
    "      'cino': cino,\n",
    "      'case_no': case_no,\n",
    "      'appFlag': '',\n",
    "      'court_code': '1'\n",
    "    }\n",
    "\n",
    "    response = s.post('https://services.ecourts.gov.in/ecourtindiaHC/cases/o_civil_case_history.php', headers=headers,data=data)\n",
    "    \n",
    "    return (response.text, 0)"
   ]
  },
  {
   "cell_type": "code",
   "execution_count": 112,
   "metadata": {},
   "outputs": [
    {
     "name": "stdout",
     "output_type": "stream",
     "text": [
      "['1) M/S QUANTIUM MAIL LOGISTICS SOLUTIONS(INDIA)    Advocate- AKSHAYA B M', '1) THE ASSISTANT COMMISSIONER OF CENTRAL    Advocate - K M SHIVAYOGISWAMY FOR R1-4 2)  THE SUPERINTENDENT OF CENTRAL TAX    3)  THE COMMISSIONER OF CENTRAL TAX    4)  THE DEPUTY COMMISSIONER OF CENTRAL TAX(AUDIT-1)    5)  THE BRANCH MANAGER    6)  THE BRANCH MANAGER']\n",
      "AKSHAYA B M\n",
      "K M SHIVAYOGISWAMY FOR R\n"
     ]
    },
    {
     "data": {
      "text/plain": [
       "['MS QUANTIUM MAIL LOGISTICS SOLUTIONS(INDIA)',\n",
       " ' ',\n",
       " ' ',\n",
       " ' ',\n",
       " 1,\n",
       " 'AKSHAYA B M',\n",
       " 'THE ASSISTANT COMMISSIONER OF CENTRAL',\n",
       " 'THE SUPERINTENDENT OF CENTRAL TAX',\n",
       " 'THE COMMISSIONER OF CENTRAL TAX',\n",
       " 'THE DEPUTY COMMISSIONER OF CENTRAL TAX(AUDIT',\n",
       " 6,\n",
       " '56374',\n",
       " '2018',\n",
       " '15-12-2018',\n",
       " '56374',\n",
       " '2018',\n",
       " '15-12-2018',\n",
       " 'KAHC010233512018',\n",
       " 'S.Sujatha',\n",
       " 'Single Bench',\n",
       " 'Interim Application/1/2018    Classification : Dispensation of the C.Copies',\n",
       " 'M/S QUANTIUM MAIL LOGISTICS SOLUTIONS(INDIA)',\n",
       " '',\n",
       " 'CASE DISPOSED',\n",
       " 'WP ( 144 )',\n",
       " 'T-Tax Matter ( 21 )',\n",
       " 'RES-Residuary ( 112 )',\n",
       " '14-02-2019 ',\n",
       " '14th February 2019',\n",
       " 'DISPOSED',\n",
       " ' ']"
      ]
     },
     "execution_count": 112,
     "metadata": {},
     "output_type": "execute_result"
    }
   ],
   "source": [
    "soup = BeautifulSoup(get_case_deets(\"KAHC010311652018\",\"214400264392018\" )[0])\n",
    "deets = get_all(soup)\n",
    "party_subview = [x for x in deets[0] if x[:2]=='1)']\n",
    "process(soup)"
   ]
  },
  {
   "cell_type": "code",
   "execution_count": 132,
   "metadata": {},
   "outputs": [],
   "source": []
  },
  {
   "cell_type": "code",
   "execution_count": 114,
   "metadata": {},
   "outputs": [
    {
     "data": {
      "text/plain": [
       "['Interim Application/1/2018    Classification : Dispensation of the C.Copies',\n",
       " 'M/S QUANTIUM MAIL LOGISTICS SOLUTIONS(INDIA)',\n",
       " '15-12-2018',\n",
       " '17-01-2019',\n",
       " 'Disposed',\n",
       " 'History of Case Hearing',\n",
       " '',\n",
       " 'S.SUJATHA',\n",
       " '14-02-2019',\n",
       " '',\n",
       " 'Disposed',\n",
       " 'Cause List No. 1',\n",
       " 'S.SUJATHA',\n",
       " '24-01-2019',\n",
       " '24-01-2019',\n",
       " 'ADMISSION',\n",
       " 'Cause List No. 1',\n",
       " 'S.SUJATHA',\n",
       " '31-01-2019',\n",
       " '31-01-2019',\n",
       " 'ADMISSION',\n",
       " 'Cause List No. 1',\n",
       " 'S.SUJATHA',\n",
       " '14-02-2019',\n",
       " '14-02-2019',\n",
       " 'ADMISSION',\n",
       " 'Orders',\n",
       " 'Order Number',\n",
       " 'Judge',\n",
       " 'Order Date',\n",
       " 'Order Details',\n",
       " '1',\n",
       " 'S.SUJATHA',\n",
       " '14-02-2019',\n",
       " 'View',\n",
       " 'Category Details',\n",
       " 'Category',\n",
       " 'WP ( 144 )',\n",
       " 'Sub Category',\n",
       " 'T-Tax Matter ( 21 )',\n",
       " 'Sub Sub Category',\n",
       " 'RES-Residuary ( 112 )',\n",
       " 'Document Details',\n",
       " '1',\n",
       " '1',\n",
       " '15-12-2018',\n",
       " 'P1',\n",
       " '',\n",
       " 'Vakalat',\n",
       " '2',\n",
       " '1',\n",
       " '25-01-2019',\n",
       " 'P1',\n",
       " '',\n",
       " 'Process Memo',\n",
       " '3',\n",
       " '2',\n",
       " '13-02-2019',\n",
       " 'R1-4',\n",
       " '',\n",
       " 'Acknowledgement']"
      ]
     },
     "execution_count": 114,
     "metadata": {},
     "output_type": "execute_result"
    }
   ],
   "source": [
    "deets[1]"
   ]
  },
  {
   "cell_type": "code",
   "execution_count": 4,
   "metadata": {},
   "outputs": [],
   "source": [
    "\n",
    "def process(soup):\n",
    "    deets = get_all(soup)\n",
    "    if len(deets[1])<1:\n",
    "        return 0\n",
    "    disposed_date = \" \"\n",
    "    disposed_reason = \" \"\n",
    "    filing_number= deets[0][6][15:25].split('/')[0]\n",
    "    filing_date = deets[0][8][-10:]\n",
    "    filing_year = filing_date[-4:]\n",
    "    registration_number = deets[0][9][21:31].split('/')[0]\n",
    "    registration_date = deets[0][11][19:]\n",
    "    registration_year = registration_date[-4:]\n",
    "    stage = deets[0][16].split(\": \")[-1].strip()     \n",
    "    stage = re.sub(r'[^a-zA-Z ]', '',stage)  \n",
    "    \n",
    "    if stage=='CASE DISPOSED':\n",
    "        disposed_date = deets[0][15].split(\":\")[-1].strip()\n",
    "        disposed_reason =deets[0][17].split(\":\")[-1].strip()\n",
    "        disposed_reason = re.sub(r'[^a-zA-Z ]', '', disposed_reason)\n",
    "        \n",
    "        judge = deets[0][18].split(':')[-1].strip()[4:].title()\n",
    "        bench = deets[0][19].split(':')[-1].strip().title()\n",
    "    else:\n",
    "        judge = deets[0][17].split(':')[-1].strip()[4:].title()\n",
    "        bench = deets[0][18].split(':')[-1].strip().title()\n",
    "    if bench == '':\n",
    "        bench = ' '\n",
    "    cnr = cino\n",
    "    statute = deets[1][0]\n",
    "    provision = deets[1][1]\n",
    "    if statute == 'History of Case Hearing':\n",
    "        statute = \" \"\n",
    "        provision = \" \"\n",
    "    \n",
    "    try:\n",
    "        first_hearing = deets[0][14].split(\": \")[1]\n",
    "    except IndexError:\n",
    "        first_hearing = \"\"\n",
    "\n",
    "    category, sub_category, sub_sub_category, *_ = get_category_details(deets[-1])\n",
    "\n",
    "    \n",
    "    party_subview = [x for x in deets[0] if x[:2]=='1)']\n",
    "    #print(party_subview)\n",
    "    p_advocate, p_length, p1, p2, p3, p4, *_ = clean_parties(party_subview[0])\n",
    "    r_advocate, r_length, r1, r2, r3, r4, *_ = clean_parties(party_subview[1])\n",
    "    \n",
    "\n",
    "    try:\n",
    "        last_hearing = soup.select(\"body > form > div:nth-child(2) > table.history_table > tr > td\")\n",
    "        last_hearing_date = last_hearing[-3].get_text()\n",
    "        last_hearing_matter = last_hearing[-1].get_text()\n",
    "    except IndexError:\n",
    "        last_hearing_date = \"\"\n",
    "        last_hearing_matter = \"\"\n",
    "    \n",
    "    try:\n",
    "        order_link = soup.select(\"#secondpage > div:nth-child(13) > table.order_table > tbody > tr:nth-child(2) > td:nth-child(4) > a\")['href']\n",
    "    except:\n",
    "        order_link = \" \"\n",
    "    rows = [p1,p2,p3,p4,p_length, p_advocate, r1,r2,r3,r4,r_length, r_advocate, filing_number, filing_year, filing_date, registration_number, registration_year, registration_date, cnr, judge, bench, statute, provision, first_hearing, stage, category, sub_category, sub_sub_category, last_hearing_date, disposed_date, disposed_reason, order_link]\n",
    "\n",
    "    return rows\n"
   ]
  },
  {
   "cell_type": "code",
   "execution_count": 5,
   "metadata": {},
   "outputs": [],
   "source": [
    "def print_all(soup):\n",
    "    import unicodedata\n",
    "    f = open('log.txt', 'a')\n",
    "    normal = lambda x: unicodedata.normalize(\"NFKD\", x.get_text().strip())\n",
    "    f.write(f\"Record: {current_record}: \")\n",
    "    f.write(str([normal(x) for x in soup.find_all('span')]))\n",
    "    f.write('td\\n')\n",
    "    f.write(str([normal(x) for x in soup.find_all('td')]))\n",
    "    f.write('tr\\n')\n",
    "    f.write(str([normal(x) for x in soup.find_all('tr')]))\n",
    "    f.write('\\n')\n",
    "    last_hearing = soup.select(\"body > form > div:nth-child(2) > table.history_table > tr > td\")\n",
    "    f.write(str(last_hearing))\n",
    "    f.write('\\n\\n')\n",
    "\n",
    "    f.close()\n",
    "def get_all(soup):\n",
    "    import unicodedata\n",
    "    normal = lambda x: unicodedata.normalize(\"NFKD\", x.get_text().strip())\n",
    "    return (([normal(x) for x in soup.find_all('span')]), [normal(x) for x in soup.find_all('td')], [normal(x) for x in soup.find_all('tr')])\\\n",
    "\n",
    "def get_category_details(items):\n",
    "    temp_category = [x.split('\\n')[-1] for x in items if \"Category\\n\" in x]\n",
    "    while len(temp_category)<3:\n",
    "        temp_category.append(\" \")\n",
    "    return temp_category\n",
    "\n",
    "def clean_parties(parties):\n",
    "    parties = re.split(r'\\d+\\)', parties)\n",
    "    clean_parties = []\n",
    "    advocates = []\n",
    "    for ind, party in enumerate(parties):\n",
    "        if \"Advocate\" in party:\n",
    "            advocate = party.split(\"Advocate\")[-1]\n",
    "            advocate = re.sub(r'[^a-zA-Z ]', '',advocate).strip()\n",
    "            if \"FOR R\" in advocate:\n",
    "                advocate = advocate.split(\"FOR\")[0]\n",
    "            #print(advocate)\n",
    "            advocates.append(advocate)\n",
    "        \n",
    "        temp_party = party.split(\"Advocate\")[0].strip()\n",
    "        if temp_party:\n",
    "            temp_party = re.sub(r'[^a-zA-Z \\\\ \\)\\(]', '',temp_party)\n",
    "            clean_parties.append(temp_party)\n",
    "           \n",
    "    if not advocates:\n",
    "        advocate = \" \"\n",
    "    else:\n",
    "        advocate = advocates[0]\n",
    "\n",
    "    clean_parties.insert(0, len(clean_parties))\n",
    "    clean_parties.insert(0, advocate)\n",
    "    \n",
    "    while len(clean_parties) < 6:\n",
    "        clean_parties.append(\" \")\n",
    "\n",
    "    return clean_parties\n",
    "\n"
   ]
  },
  {
   "cell_type": "code",
   "execution_count": 143,
   "metadata": {},
   "outputs": [
    {
     "name": "stdout",
     "output_type": "stream",
     "text": [
      "None\n"
     ]
    }
   ],
   "source": [
    "print([].append(\"\"))"
   ]
  },
  {
   "cell_type": "code",
   "execution_count": 85,
   "metadata": {},
   "outputs": [],
   "source": [
    "\n",
    "last_hearing = soup.select(\"body > form > div:nth-child(2) > table.history_table > tr > td\")\n",
    "\n",
    "last_hearing_date = last_hearing[-3].get_text()\n",
    "last_hearing_matter = last_hearing[-1].get_text()"
   ]
  },
  {
   "cell_type": "code",
   "execution_count": 3,
   "metadata": {},
   "outputs": [
    {
     "name": "stderr",
     "output_type": "stream",
     "text": [
      "C:\\Users\\darsa\\AppData\\Local\\Temp\\ipykernel_18764\\2132801124.py:3: DtypeWarning: Columns (23) have mixed types. Specify dtype option on import or set low_memory=False.\n",
      "  df = pd.read_csv(\"2021records_new.csv\")\n"
     ]
    }
   ],
   "source": [
    "import pandas as pd\n",
    "\n",
    "df = pd.read_csv(\"2021records_new.csv\")"
   ]
  },
  {
   "cell_type": "code",
   "execution_count": 9,
   "metadata": {},
   "outputs": [
    {
     "data": {
      "text/plain": [
       "Index(['P1', 'P2', 'P3', 'P4', 'P_Total', 'P_Advocate', 'R1', 'R2', 'R3', 'R4',\n",
       "       'R_Total', 'Filing Number', 'filing_year', 'filing_date',\n",
       "       'registration_number', 'registration_year', 'registration_date', 'cnr',\n",
       "       'judge', 'bench', 'statute', 'provision', 'first_hearing', 'stage',\n",
       "       'category', 'sub_category', 'sub_sub_category', 'last_hearing_date',\n",
       "       'date_dismissed', 'dismissal_type'],\n",
       "      dtype='object')"
      ]
     },
     "execution_count": 9,
     "metadata": {},
     "output_type": "execute_result"
    }
   ],
   "source": [
    "state_filter_list = ['state', 'Karn', 'tahsildar', 'thasildar', 'registrar', 'comm', 'chief', 'director', 'land', 'union', 'inspector', 'police', 'secretary', 'chief', 'engineer']"
   ]
  },
  {
   "cell_type": "code",
   "execution_count": 14,
   "metadata": {},
   "outputs": [
    {
     "data": {
      "text/plain": [
       "sub_category                                       sub_sub_category                               \n",
       "                                                                                                      144\n",
       "APMC-Agrl.Produce (Marketing)Regulation Act ( 2 )                                                      39\n",
       "BDA-Bangalore Development Authority Act ( 3 )                                                         199\n",
       "                                                   PIL-Public Interest Litigation ( 1 )                 3\n",
       "C-Cinema Regulation Act ( 4 )                                                                           3\n",
       "                                                                                                     ... \n",
       "T-Tax Matter ( 21 )                                RES-Residuary ( 112 )                              241\n",
       "                                                   TAR-Central Excise/Customs Act (Tariff) ( 123 )      2\n",
       "T-Tax Matter ( 32 )                                IT-Income Tax Act ( 213 )                            1\n",
       "ULC-Urban Land Ceiling Act ( 12 )                                                                       4\n",
       "sub_sub_category                                   last_hearing_date                                    1\n",
       "Name: P1, Length: 113, dtype: int64"
      ]
     },
     "execution_count": 14,
     "metadata": {},
     "output_type": "execute_result"
    }
   ],
   "source": [
    "df.groupby(['sub_category', 'sub_sub_category'])['P1'].count()"
   ]
  },
  {
   "cell_type": "code",
   "execution_count": 17,
   "metadata": {},
   "outputs": [
    {
     "name": "stdout",
     "output_type": "stream",
     "text": [
      "16319\n"
     ]
    }
   ],
   "source": [
    "import glob\n",
    "files = glob.glob(\"case_files/2018*\")\n",
    "count = 0\n",
    "for fil in files:\n",
    "    with open(fil, 'r') as f:\n",
    "        a = f.read()\n",
    "        if \"403\" in a:\n",
    "            count+=1\n",
    "print(count)\n",
    "fin()"
   ]
  },
  {
   "cell_type": "code",
   "execution_count": 16,
   "metadata": {},
   "outputs": [],
   "source": [
    "import winsound\n",
    "def fin():\n",
    "    duration = 250  # milliseconds\n",
    "    freq = 740  # Hz\n",
    "    for i in range(3):\n",
    "        winsound.Beep(freq, duration)"
   ]
  },
  {
   "cell_type": "code",
   "execution_count": null,
   "metadata": {},
   "outputs": [],
   "source": []
  }
 ],
 "metadata": {
  "interpreter": {
   "hash": "b89b5cfaba6639976dc87ff2fec6d58faec662063367e2c229c520fe71072417"
  },
  "kernelspec": {
   "display_name": "Python 3.10.1 64-bit",
   "name": "python3"
  },
  "language_info": {
   "codemirror_mode": {
    "name": "ipython",
    "version": 3
   },
   "file_extension": ".py",
   "mimetype": "text/x-python",
   "name": "python",
   "nbconvert_exporter": "python",
   "pygments_lexer": "ipython3",
   "version": "3.10.1"
  },
  "orig_nbformat": 4
 },
 "nbformat": 4,
 "nbformat_minor": 2
}
