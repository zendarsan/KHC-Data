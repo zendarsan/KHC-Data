{
 "cells": [
  {
   "cell_type": "code",
   "execution_count": 1,
   "metadata": {},
   "outputs": [],
   "source": [
    "import requests\n",
    "from bs4 import BeautifulSoup\n",
    "import re\n",
    "import csv\n",
    "import time\n",
    "from os.path import exists, realpath\n",
    "from urllib.parse import quote\n",
    "import json\n",
    "import glob\n",
    "\n",
    "current_record = 0\n",
    "current_set = 0\n",
    "fails = 0"
   ]
  },
  {
   "cell_type": "code",
   "execution_count": 74,
   "metadata": {},
   "outputs": [],
   "source": [
    "s = requests.Session()\n",
    "cookie = 'PHPSESSID=c8hcufru9lt9puq06ct3map455'\n",
    "def get_case_deets(cino, case_no, court_no, state_code, dist_code):\n",
    "    \n",
    "    headers = {\n",
    "        'Connection': 'keep-alive',\n",
    "        'sec-ch-ua': '\" Not;A Brand\";v=\"99\", \"Microsoft Edge\";v=\"97\", \"Chromium\";v=\"97\"',\n",
    "        'DNT': '1',\n",
    "        'sec-ch-ua-mobile': '?0',\n",
    "        'User-Agent': 'Mozilla/5.0 (Windows NT 10.0; Win64; x64) AppleWebKit/537.36 (KHTML, like Gecko) Chrome/97.0.4692.71 Safari/537.36 Edg/97.0.1072.55',\n",
    "        'sec-ch-ua-platform': '\"Windows\"',\n",
    "        'Content-Type': 'application/x-www-form-urlencoded',\n",
    "        'Accept': '*/*',\n",
    "        'Origin': 'https://services.ecourts.gov.in',\n",
    "        'Sec-Fetch-Site': 'same-origin',\n",
    "        'Sec-Fetch-Mode': 'cors',\n",
    "        'Sec-Fetch-Dest': 'empty',\n",
    "        'Referer': 'https://services.ecourts.gov.in/',\n",
    "        'Accept-Language': 'en-US,en;q=0.9',\n",
    "        'Cookie': cookie\n",
    "    }\n",
    "\n",
    "    data = {\n",
    "      '__csrf_magic': 'sid:22e25a4a3b8a2c3dd3a08f8c43e207354a236ed2,1641670946',\n",
    "      'state_code': state_code,\n",
    "      'dist_code': dist_code,\n",
    "      'cino': cino,\n",
    "      'case_no': case_no,\n",
    "      'appFlag': '',\n",
    "      'court_code': court_no\n",
    "    }\n",
    "\n",
    "    response = s.post('https://services.ecourts.gov.in/ecourtindia_v4_bilingual/cases/o_civil_case_history.php', headers=headers,data=data)\n",
    "    return (response.content, 0)\n",
    "\n",
    "def get_case_document(link):\n",
    "\n",
    "    headers = {\n",
    "        'Connection': 'keep-alive',\n",
    "        'sec-ch-ua': '\" Not;A Brand\";v=\"99\", \"Microsoft Edge\";v=\"97\", \"Chromium\";v=\"97\"',\n",
    "        'DNT': '1',\n",
    "        'sec-ch-ua-mobile': '?0',\n",
    "        'User-Agent': 'Mozilla/5.0 (Windows NT 10.0; Win64; x64) AppleWebKit/537.36 (KHTML, like Gecko) Chrome/97.0.4692.71 Safari/537.36 Edg/97.0.1072.55',\n",
    "        'sec-ch-ua-platform': '\"Windows\"',\n",
    "        'Content-Type': 'application/x-www-form-urlencoded',\n",
    "        'Accept': '*/*',\n",
    "        'Origin': 'https://services.ecourts.gov.in',\n",
    "        'Sec-Fetch-Site': 'same-origin',\n",
    "        'Sec-Fetch-Mode': 'cors',\n",
    "        'Sec-Fetch-Dest': 'empty',\n",
    "        'Referer': 'https://services.ecourts.gov.in/',\n",
    "        'Accept-Language': 'en-US,en;q=0.9',\n",
    "        'Cookie': cookie\n",
    "\n",
    "    }\n",
    "    response = s.get(link, headers=headers)\n",
    "    return (response)\n",
    "\n",
    "def process(soup, cino):\n",
    "    deets = get_all(soup)\n",
    "    if len(deets[1])<1:\n",
    "        return 0\n",
    "    disposed_date = \" \"\n",
    "    disposed_reason = \" \"\n",
    "    disposed_year = \" \"\n",
    "    filing_number= deets[0][6][15:25].split('/')[0]\n",
    "    filing_date = deets[0][8][-10:]\n",
    "    filing_year = filing_date[-4:]\n",
    "    registration_number = deets[0][9][21:31].split('/')[0]\n",
    "    registration_date = deets[0][11][19:]\n",
    "    registration_year = registration_date[-4:]\n",
    "    stage = deets[0][16].split(\": \")[-1].strip()     \n",
    "    stage = re.sub(r'[^a-zA-Z ]', '',stage)  \n",
    "    \n",
    "    if 'CASE DISPOSED' in stage.upper():\n",
    "        disposed_date = deets[0][15].split(\":\")[-1].strip()\n",
    "        disposed_year = disposed_date[-4:]\n",
    "        disposed_reason =deets[0][17].split(\":\")[-1].strip()\n",
    "        \n",
    "        judge = deets[0][18].split(':')[-1].strip()[4:].title()\n",
    "        bench = deets[0][19].split(':')[-1].strip().title()\n",
    "    else:\n",
    "        judge = deets[0][17].split(':')[-1].strip()[4:].title()\n",
    "        bench = deets[0][18].split(':')[-1].strip().title()\n",
    "    if bench == '':\n",
    "        bench = ' '\n",
    "    statute = deets[1][0]\n",
    "    provision = deets[1][1]\n",
    "    if statute == 'History of Case Hearing':\n",
    "        statute = \" \"\n",
    "        provision = \" \"\n",
    "    \n",
    "    try:\n",
    "        first_hearing = deets[0][14].split(\": \")[1]\n",
    "    except IndexError:\n",
    "        first_hearing = \"\"\n",
    "\n",
    "    category, sub_category, sub_sub_category, *_ = get_category_details(deets[-1])\n",
    "\n",
    "    \n",
    "    party_subview = [x for x in deets[0] if x[:2]=='1)']\n",
    "    #print(party_subview)\n",
    "    p_advocate, p_length, p1, p2, p3, p4, *_ = clean_parties(party_subview[0])\n",
    "    r_advocate, r_length, r1, r2, r3, r4, *_ = clean_parties(party_subview[1])\n",
    "    \n",
    "\n",
    "    try:\n",
    "        last_hearing = soup.select(\"body > form > div:nth-child(2) > table.history_table > tr > td\")\n",
    "        last_hearing_date = last_hearing[-3].get_text()\n",
    "        last_hearing_matter = last_hearing[-1].get_text()\n",
    "    except IndexError:\n",
    "        last_hearing_date = \"\"\n",
    "        last_hearing_matter = \"\"\n",
    "    \n",
    "    try:\n",
    "        order_link = soup.select(\"#secondpage > div:nth-child(13) > table.order_table > tbody > tr:nth-child(2) > td:nth-child(4) > a\")['href']\n",
    "    except:\n",
    "        order_link = \" \"\n",
    "\n",
    "    rows = [p1,r1, cino, filing_number, filing_year, filing_date, registration_year, registration_date, stage, disposed_date, disposed_year, disposed_reason, order_link,]\n",
    "\n",
    "    return rows\n",
    "\n",
    "def print_all(soup):\n",
    "    import unicodedata\n",
    "    f = open('log.txt', 'a')\n",
    "    normal = lambda x: unicodedata.normalize(\"NFKD\", x.get_text().strip())\n",
    "    f.write(f\"Record: {current_record}: \")\n",
    "    f.write(str([normal(x) for x in soup.find_all('span')]))\n",
    "    f.write('td\\n')\n",
    "    f.write(str([normal(x) for x in soup.find_all('td')]))\n",
    "    f.write('tr\\n')\n",
    "    f.write(str([normal(x) for x in soup.find_all('tr')]))\n",
    "    f.write('\\n')\n",
    "    last_hearing = soup.select(\"body > form > div:nth-child(2) > table.history_table > tr > td\")\n",
    "    f.write(str(last_hearing))\n",
    "    f.write('\\n\\n')\n",
    "\n",
    "    f.close()\n",
    "def get_all(soup):\n",
    "    import unicodedata\n",
    "    normal = lambda x: unicodedata.normalize(\"NFKD\", x.get_text().strip())\n",
    "    return (([normal(x) for x in soup.find_all('span')]), [normal(x) for x in soup.find_all('td')], [normal(x) for x in soup.find_all('tr')])\\\n",
    "\n",
    "\n",
    "\n",
    "def get_category_details(items):\n",
    "    temp_category = [x.split('\\n')[-1] for x in items if \"Category\\n\" in x]\n",
    "    while len(temp_category)<3:\n",
    "        temp_category.append(\" \")\n",
    "    return temp_category\n",
    "\n",
    "def clean_parties(parties):\n",
    "    parties = re.split(r'\\d+\\)', parties)\n",
    "    clean_parties = []\n",
    "    advocates = []\n",
    "    for ind, party in enumerate(parties):\n",
    "        if \"Advocate\" in party:\n",
    "            advocate = party.split(\"Advocate\")[-1]\n",
    "            advocate = re.sub(r'[^a-zA-Z ]', '',advocate).strip()\n",
    "            if \"FOR R\" in advocate:\n",
    "                advocate = advocate.split(\"FOR\")[0]\n",
    "            #print(advocate)\n",
    "            advocates.append(advocate)\n",
    "        \n",
    "        temp_party = party.split(\"Advocate\")[0].strip()\n",
    "        if temp_party:\n",
    "            temp_party = re.sub(r'[^a-zA-Z \\\\ \\)\\(]', '',temp_party)\n",
    "            clean_parties.append(temp_party)\n",
    "           \n",
    "    if not advocates:\n",
    "        advocate = \" \"\n",
    "    else:\n",
    "        advocate = advocates[0]\n",
    "\n",
    "    clean_parties.insert(0, len(clean_parties))\n",
    "    clean_parties.insert(0, advocate)\n",
    "    \n",
    "    while len(clean_parties) < 6:\n",
    "        clean_parties.append(\" \")\n",
    "\n",
    "    return clean_parties\n",
    "\n"
   ]
  },
  {
   "cell_type": "code",
   "execution_count": null,
   "metadata": {},
   "outputs": [],
   "source": [
    "import glob, csv\n",
    "processed_cases = []\n",
    "files = glob.glob(\"output/*.csv\")\n",
    "if glob.glob(files[0]):\n",
    "    with open(files[0], 'r') as f:\n",
    "        csv_reader = csv.reader(f)\n",
    "        x = list(csv_reader)\n",
    "        processed_cases.extend([c[2] for c in x])\n",
    "print(processed_cases)"
   ]
  },
  {
   "cell_type": "code",
   "execution_count": 75,
   "metadata": {},
   "outputs": [],
   "source": [
    "all_files = glob.glob(\"*.txt\")\n",
    "all_cases = []\n",
    "for file in all_files:\n",
    "    with open(file, 'r') as f:\n",
    "        if '_d' in file:\n",
    "            disp=\"disposed\"\n",
    "        else:\n",
    "            disp=\"pending\"\n",
    "\n",
    "        x = json.loads(f.read())\n",
    "        for cases, court_code, court in zip(x['con'], x['court_code'], x['courtNameArr']):\n",
    "            if(cases and court_code and court):\n",
    "                all_cases.append({\n",
    "                'court_no': court_code,\n",
    "                'cases': json.loads(cases),\n",
    "                'court': court,\n",
    "                'state_code': x['stateCode'],\n",
    "                'dist_code': x['distCode'],\n",
    "                'disp': disp\n",
    "            })"
   ]
  },
  {
   "cell_type": "code",
   "execution_count": 76,
   "metadata": {},
   "outputs": [
    {
     "name": "stdout",
     "output_type": "stream",
     "text": [
      "Starting District and Session Judge, South-West DWK, 37 pending, 0 failed so far. Set 0 of 37\n",
      "Processed 37 cases\n",
      "Starting Chief Metropolitan Magistrate, South-West DWK, 3141 pending, 0 failed so far. Set 1 of 37\n",
      "No file text/html; charset=UTF-8\n",
      "No file text/html; charset=UTF-8\n",
      "No file text/html; charset=UTF-8\n",
      "Processing case 1542\r"
     ]
    },
    {
     "ename": "KeyboardInterrupt",
     "evalue": "",
     "output_type": "error",
     "traceback": [
      "\u001b[0;31m---------------------------------------------------------------------------\u001b[0m",
      "\u001b[0;31mKeyboardInterrupt\u001b[0m                         Traceback (most recent call last)",
      "Cell \u001b[0;32mIn[76], line 59\u001b[0m\n\u001b[1;32m     56\u001b[0m link \u001b[39m=\u001b[39m \u001b[39mf\u001b[39m\u001b[39m\"\u001b[39m\u001b[39mhttps://services.ecourts.gov.in/ecourtindia_v4_bilingual/cases/\u001b[39m\u001b[39m{\u001b[39;00mquery\u001b[39m}\u001b[39;00m\u001b[39m\"\u001b[39m\n\u001b[1;32m     58\u001b[0m order_name \u001b[39m=\u001b[39m \u001b[39mf\u001b[39m\u001b[39m\"\u001b[39m\u001b[39moutput/orders/\u001b[39m\u001b[39m{\u001b[39;00mrow[\u001b[39m3\u001b[39m]\u001b[39m}\u001b[39;00m\u001b[39m of \u001b[39m\u001b[39m{\u001b[39;00mrow[\u001b[39m4\u001b[39m]\u001b[39m}\u001b[39;00m\u001b[39m_\u001b[39m\u001b[39m{\u001b[39;00mname\u001b[39m.\u001b[39mtitle()\u001b[39m}\u001b[39;00m\u001b[39m_\u001b[39m\u001b[39m{\u001b[39;00mcino\u001b[39m}\u001b[39;00m\u001b[39m_\u001b[39m\u001b[39m{\u001b[39;00mindex\u001b[39m}\u001b[39;00m\u001b[39m.pdf\u001b[39m\u001b[39m\"\u001b[39m\n\u001b[0;32m---> 59\u001b[0m doc \u001b[39m=\u001b[39m get_case_document(link)\n\u001b[1;32m     60\u001b[0m \u001b[39mif\u001b[39;00m doc\u001b[39m.\u001b[39mheaders[\u001b[39m'\u001b[39m\u001b[39mContent-Type\u001b[39m\u001b[39m'\u001b[39m] \u001b[39m==\u001b[39m \u001b[39m'\u001b[39m\u001b[39mapplication/pdf\u001b[39m\u001b[39m'\u001b[39m:\n\u001b[1;32m     61\u001b[0m     \u001b[39mwith\u001b[39;00m \u001b[39mopen\u001b[39m(order_name, \u001b[39m'\u001b[39m\u001b[39mwb\u001b[39m\u001b[39m'\u001b[39m) \u001b[39mas\u001b[39;00m f:      \n",
      "Cell \u001b[0;32mIn[74], line 56\u001b[0m, in \u001b[0;36mget_case_document\u001b[0;34m(link)\u001b[0m\n\u001b[1;32m     36\u001b[0m \u001b[39mdef\u001b[39;00m \u001b[39mget_case_document\u001b[39m(link):\n\u001b[1;32m     38\u001b[0m     headers \u001b[39m=\u001b[39m {\n\u001b[1;32m     39\u001b[0m         \u001b[39m'\u001b[39m\u001b[39mConnection\u001b[39m\u001b[39m'\u001b[39m: \u001b[39m'\u001b[39m\u001b[39mkeep-alive\u001b[39m\u001b[39m'\u001b[39m,\n\u001b[1;32m     40\u001b[0m         \u001b[39m'\u001b[39m\u001b[39msec-ch-ua\u001b[39m\u001b[39m'\u001b[39m: \u001b[39m'\u001b[39m\u001b[39m\"\u001b[39m\u001b[39m Not;A Brand\u001b[39m\u001b[39m\"\u001b[39m\u001b[39m;v=\u001b[39m\u001b[39m\"\u001b[39m\u001b[39m99\u001b[39m\u001b[39m\"\u001b[39m\u001b[39m, \u001b[39m\u001b[39m\"\u001b[39m\u001b[39mMicrosoft Edge\u001b[39m\u001b[39m\"\u001b[39m\u001b[39m;v=\u001b[39m\u001b[39m\"\u001b[39m\u001b[39m97\u001b[39m\u001b[39m\"\u001b[39m\u001b[39m, \u001b[39m\u001b[39m\"\u001b[39m\u001b[39mChromium\u001b[39m\u001b[39m\"\u001b[39m\u001b[39m;v=\u001b[39m\u001b[39m\"\u001b[39m\u001b[39m97\u001b[39m\u001b[39m\"\u001b[39m\u001b[39m'\u001b[39m,\n\u001b[0;32m   (...)\u001b[0m\n\u001b[1;32m     54\u001b[0m \n\u001b[1;32m     55\u001b[0m     }\n\u001b[0;32m---> 56\u001b[0m     response \u001b[39m=\u001b[39m s\u001b[39m.\u001b[39;49mget(link, headers\u001b[39m=\u001b[39;49mheaders)\n\u001b[1;32m     57\u001b[0m     \u001b[39mreturn\u001b[39;00m (response)\n",
      "File \u001b[0;32m~/Desktop/Code/khc/env/lib/python3.9/site-packages/requests/sessions.py:600\u001b[0m, in \u001b[0;36mSession.get\u001b[0;34m(self, url, **kwargs)\u001b[0m\n\u001b[1;32m    592\u001b[0m \u001b[39m\u001b[39m\u001b[39mr\u001b[39m\u001b[39m\"\"\"Sends a GET request. Returns :class:`Response` object.\u001b[39;00m\n\u001b[1;32m    593\u001b[0m \n\u001b[1;32m    594\u001b[0m \u001b[39m:param url: URL for the new :class:`Request` object.\u001b[39;00m\n\u001b[1;32m    595\u001b[0m \u001b[39m:param \\*\\*kwargs: Optional arguments that ``request`` takes.\u001b[39;00m\n\u001b[1;32m    596\u001b[0m \u001b[39m:rtype: requests.Response\u001b[39;00m\n\u001b[1;32m    597\u001b[0m \u001b[39m\"\"\"\u001b[39;00m\n\u001b[1;32m    599\u001b[0m kwargs\u001b[39m.\u001b[39msetdefault(\u001b[39m\"\u001b[39m\u001b[39mallow_redirects\u001b[39m\u001b[39m\"\u001b[39m, \u001b[39mTrue\u001b[39;00m)\n\u001b[0;32m--> 600\u001b[0m \u001b[39mreturn\u001b[39;00m \u001b[39mself\u001b[39;49m\u001b[39m.\u001b[39;49mrequest(\u001b[39m\"\u001b[39;49m\u001b[39mGET\u001b[39;49m\u001b[39m\"\u001b[39;49m, url, \u001b[39m*\u001b[39;49m\u001b[39m*\u001b[39;49mkwargs)\n",
      "File \u001b[0;32m~/Desktop/Code/khc/env/lib/python3.9/site-packages/requests/sessions.py:587\u001b[0m, in \u001b[0;36mSession.request\u001b[0;34m(self, method, url, params, data, headers, cookies, files, auth, timeout, allow_redirects, proxies, hooks, stream, verify, cert, json)\u001b[0m\n\u001b[1;32m    582\u001b[0m send_kwargs \u001b[39m=\u001b[39m {\n\u001b[1;32m    583\u001b[0m     \u001b[39m\"\u001b[39m\u001b[39mtimeout\u001b[39m\u001b[39m\"\u001b[39m: timeout,\n\u001b[1;32m    584\u001b[0m     \u001b[39m\"\u001b[39m\u001b[39mallow_redirects\u001b[39m\u001b[39m\"\u001b[39m: allow_redirects,\n\u001b[1;32m    585\u001b[0m }\n\u001b[1;32m    586\u001b[0m send_kwargs\u001b[39m.\u001b[39mupdate(settings)\n\u001b[0;32m--> 587\u001b[0m resp \u001b[39m=\u001b[39m \u001b[39mself\u001b[39;49m\u001b[39m.\u001b[39;49msend(prep, \u001b[39m*\u001b[39;49m\u001b[39m*\u001b[39;49msend_kwargs)\n\u001b[1;32m    589\u001b[0m \u001b[39mreturn\u001b[39;00m resp\n",
      "File \u001b[0;32m~/Desktop/Code/khc/env/lib/python3.9/site-packages/requests/sessions.py:745\u001b[0m, in \u001b[0;36mSession.send\u001b[0;34m(self, request, **kwargs)\u001b[0m\n\u001b[1;32m    742\u001b[0m         \u001b[39mpass\u001b[39;00m\n\u001b[1;32m    744\u001b[0m \u001b[39mif\u001b[39;00m \u001b[39mnot\u001b[39;00m stream:\n\u001b[0;32m--> 745\u001b[0m     r\u001b[39m.\u001b[39;49mcontent\n\u001b[1;32m    747\u001b[0m \u001b[39mreturn\u001b[39;00m r\n",
      "File \u001b[0;32m~/Desktop/Code/khc/env/lib/python3.9/site-packages/requests/models.py:899\u001b[0m, in \u001b[0;36mResponse.content\u001b[0;34m(self)\u001b[0m\n\u001b[1;32m    897\u001b[0m         \u001b[39mself\u001b[39m\u001b[39m.\u001b[39m_content \u001b[39m=\u001b[39m \u001b[39mNone\u001b[39;00m\n\u001b[1;32m    898\u001b[0m     \u001b[39melse\u001b[39;00m:\n\u001b[0;32m--> 899\u001b[0m         \u001b[39mself\u001b[39m\u001b[39m.\u001b[39m_content \u001b[39m=\u001b[39m \u001b[39mb\u001b[39;49m\u001b[39m\"\u001b[39;49m\u001b[39m\"\u001b[39;49m\u001b[39m.\u001b[39;49mjoin(\u001b[39mself\u001b[39;49m\u001b[39m.\u001b[39;49miter_content(CONTENT_CHUNK_SIZE)) \u001b[39mor\u001b[39;00m \u001b[39mb\u001b[39m\u001b[39m\"\u001b[39m\u001b[39m\"\u001b[39m\n\u001b[1;32m    901\u001b[0m \u001b[39mself\u001b[39m\u001b[39m.\u001b[39m_content_consumed \u001b[39m=\u001b[39m \u001b[39mTrue\u001b[39;00m\n\u001b[1;32m    902\u001b[0m \u001b[39m# don't need to release the connection; that's been handled by urllib3\u001b[39;00m\n\u001b[1;32m    903\u001b[0m \u001b[39m# since we exhausted the data.\u001b[39;00m\n",
      "File \u001b[0;32m~/Desktop/Code/khc/env/lib/python3.9/site-packages/requests/models.py:816\u001b[0m, in \u001b[0;36mResponse.iter_content.<locals>.generate\u001b[0;34m()\u001b[0m\n\u001b[1;32m    814\u001b[0m \u001b[39mif\u001b[39;00m \u001b[39mhasattr\u001b[39m(\u001b[39mself\u001b[39m\u001b[39m.\u001b[39mraw, \u001b[39m\"\u001b[39m\u001b[39mstream\u001b[39m\u001b[39m\"\u001b[39m):\n\u001b[1;32m    815\u001b[0m     \u001b[39mtry\u001b[39;00m:\n\u001b[0;32m--> 816\u001b[0m         \u001b[39myield from\u001b[39;00m \u001b[39mself\u001b[39m\u001b[39m.\u001b[39mraw\u001b[39m.\u001b[39mstream(chunk_size, decode_content\u001b[39m=\u001b[39m\u001b[39mTrue\u001b[39;00m)\n\u001b[1;32m    817\u001b[0m     \u001b[39mexcept\u001b[39;00m ProtocolError \u001b[39mas\u001b[39;00m e:\n\u001b[1;32m    818\u001b[0m         \u001b[39mraise\u001b[39;00m ChunkedEncodingError(e)\n",
      "File \u001b[0;32m~/Desktop/Code/khc/env/lib/python3.9/site-packages/urllib3/response.py:624\u001b[0m, in \u001b[0;36mHTTPResponse.stream\u001b[0;34m(self, amt, decode_content)\u001b[0m\n\u001b[1;32m    608\u001b[0m \u001b[39m\u001b[39m\u001b[39m\"\"\"\u001b[39;00m\n\u001b[1;32m    609\u001b[0m \u001b[39mA generator wrapper for the read() method. A call will block until\u001b[39;00m\n\u001b[1;32m    610\u001b[0m \u001b[39m``amt`` bytes have been read from the connection or until the\u001b[39;00m\n\u001b[0;32m   (...)\u001b[0m\n\u001b[1;32m    621\u001b[0m \u001b[39m    'content-encoding' header.\u001b[39;00m\n\u001b[1;32m    622\u001b[0m \u001b[39m\"\"\"\u001b[39;00m\n\u001b[1;32m    623\u001b[0m \u001b[39mif\u001b[39;00m \u001b[39mself\u001b[39m\u001b[39m.\u001b[39mchunked \u001b[39mand\u001b[39;00m \u001b[39mself\u001b[39m\u001b[39m.\u001b[39msupports_chunked_reads():\n\u001b[0;32m--> 624\u001b[0m     \u001b[39mfor\u001b[39;00m line \u001b[39min\u001b[39;00m \u001b[39mself\u001b[39m\u001b[39m.\u001b[39mread_chunked(amt, decode_content\u001b[39m=\u001b[39mdecode_content):\n\u001b[1;32m    625\u001b[0m         \u001b[39myield\u001b[39;00m line\n\u001b[1;32m    626\u001b[0m \u001b[39melse\u001b[39;00m:\n",
      "File \u001b[0;32m~/Desktop/Code/khc/env/lib/python3.9/site-packages/urllib3/response.py:831\u001b[0m, in \u001b[0;36mHTTPResponse.read_chunked\u001b[0;34m(self, amt, decode_content)\u001b[0m\n\u001b[1;32m    829\u001b[0m \u001b[39mif\u001b[39;00m \u001b[39mself\u001b[39m\u001b[39m.\u001b[39mchunk_left \u001b[39m==\u001b[39m \u001b[39m0\u001b[39m:\n\u001b[1;32m    830\u001b[0m     \u001b[39mbreak\u001b[39;00m\n\u001b[0;32m--> 831\u001b[0m chunk \u001b[39m=\u001b[39m \u001b[39mself\u001b[39;49m\u001b[39m.\u001b[39;49m_handle_chunk(amt)\n\u001b[1;32m    832\u001b[0m decoded \u001b[39m=\u001b[39m \u001b[39mself\u001b[39m\u001b[39m.\u001b[39m_decode(\n\u001b[1;32m    833\u001b[0m     chunk, decode_content\u001b[39m=\u001b[39mdecode_content, flush_decoder\u001b[39m=\u001b[39m\u001b[39mFalse\u001b[39;00m\n\u001b[1;32m    834\u001b[0m )\n\u001b[1;32m    835\u001b[0m \u001b[39mif\u001b[39;00m decoded:\n",
      "File \u001b[0;32m~/Desktop/Code/khc/env/lib/python3.9/site-packages/urllib3/response.py:775\u001b[0m, in \u001b[0;36mHTTPResponse._handle_chunk\u001b[0;34m(self, amt)\u001b[0m\n\u001b[1;32m    773\u001b[0m     \u001b[39mself\u001b[39m\u001b[39m.\u001b[39mchunk_left \u001b[39m=\u001b[39m \u001b[39mNone\u001b[39;00m\n\u001b[1;32m    774\u001b[0m \u001b[39melif\u001b[39;00m amt \u001b[39m<\u001b[39m \u001b[39mself\u001b[39m\u001b[39m.\u001b[39mchunk_left:\n\u001b[0;32m--> 775\u001b[0m     value \u001b[39m=\u001b[39m \u001b[39mself\u001b[39;49m\u001b[39m.\u001b[39;49m_fp\u001b[39m.\u001b[39;49m_safe_read(amt)\n\u001b[1;32m    776\u001b[0m     \u001b[39mself\u001b[39m\u001b[39m.\u001b[39mchunk_left \u001b[39m=\u001b[39m \u001b[39mself\u001b[39m\u001b[39m.\u001b[39mchunk_left \u001b[39m-\u001b[39m amt\n\u001b[1;32m    777\u001b[0m     returned_chunk \u001b[39m=\u001b[39m value\n",
      "File \u001b[0;32m/Library/Developer/CommandLineTools/Library/Frameworks/Python3.framework/Versions/3.9/lib/python3.9/http/client.py:613\u001b[0m, in \u001b[0;36mHTTPResponse._safe_read\u001b[0;34m(self, amt)\u001b[0m\n\u001b[1;32m    606\u001b[0m \u001b[39mdef\u001b[39;00m \u001b[39m_safe_read\u001b[39m(\u001b[39mself\u001b[39m, amt):\n\u001b[1;32m    607\u001b[0m \u001b[39m    \u001b[39m\u001b[39m\"\"\"Read the number of bytes requested.\u001b[39;00m\n\u001b[1;32m    608\u001b[0m \n\u001b[1;32m    609\u001b[0m \u001b[39m    This function should be used when <amt> bytes \"should\" be present for\u001b[39;00m\n\u001b[1;32m    610\u001b[0m \u001b[39m    reading. If the bytes are truly not available (due to EOF), then the\u001b[39;00m\n\u001b[1;32m    611\u001b[0m \u001b[39m    IncompleteRead exception can be used to detect the problem.\u001b[39;00m\n\u001b[1;32m    612\u001b[0m \u001b[39m    \"\"\"\u001b[39;00m\n\u001b[0;32m--> 613\u001b[0m     data \u001b[39m=\u001b[39m \u001b[39mself\u001b[39;49m\u001b[39m.\u001b[39;49mfp\u001b[39m.\u001b[39;49mread(amt)\n\u001b[1;32m    614\u001b[0m     \u001b[39mif\u001b[39;00m \u001b[39mlen\u001b[39m(data) \u001b[39m<\u001b[39m amt:\n\u001b[1;32m    615\u001b[0m         \u001b[39mraise\u001b[39;00m IncompleteRead(data, amt\u001b[39m-\u001b[39m\u001b[39mlen\u001b[39m(data))\n",
      "File \u001b[0;32m/Library/Developer/CommandLineTools/Library/Frameworks/Python3.framework/Versions/3.9/lib/python3.9/socket.py:704\u001b[0m, in \u001b[0;36mSocketIO.readinto\u001b[0;34m(self, b)\u001b[0m\n\u001b[1;32m    702\u001b[0m \u001b[39mwhile\u001b[39;00m \u001b[39mTrue\u001b[39;00m:\n\u001b[1;32m    703\u001b[0m     \u001b[39mtry\u001b[39;00m:\n\u001b[0;32m--> 704\u001b[0m         \u001b[39mreturn\u001b[39;00m \u001b[39mself\u001b[39;49m\u001b[39m.\u001b[39;49m_sock\u001b[39m.\u001b[39;49mrecv_into(b)\n\u001b[1;32m    705\u001b[0m     \u001b[39mexcept\u001b[39;00m timeout:\n\u001b[1;32m    706\u001b[0m         \u001b[39mself\u001b[39m\u001b[39m.\u001b[39m_timeout_occurred \u001b[39m=\u001b[39m \u001b[39mTrue\u001b[39;00m\n",
      "File \u001b[0;32m/Library/Developer/CommandLineTools/Library/Frameworks/Python3.framework/Versions/3.9/lib/python3.9/ssl.py:1241\u001b[0m, in \u001b[0;36mSSLSocket.recv_into\u001b[0;34m(self, buffer, nbytes, flags)\u001b[0m\n\u001b[1;32m   1237\u001b[0m     \u001b[39mif\u001b[39;00m flags \u001b[39m!=\u001b[39m \u001b[39m0\u001b[39m:\n\u001b[1;32m   1238\u001b[0m         \u001b[39mraise\u001b[39;00m \u001b[39mValueError\u001b[39;00m(\n\u001b[1;32m   1239\u001b[0m           \u001b[39m\"\u001b[39m\u001b[39mnon-zero flags not allowed in calls to recv_into() on \u001b[39m\u001b[39m%s\u001b[39;00m\u001b[39m\"\u001b[39m \u001b[39m%\u001b[39m\n\u001b[1;32m   1240\u001b[0m           \u001b[39mself\u001b[39m\u001b[39m.\u001b[39m\u001b[39m__class__\u001b[39m)\n\u001b[0;32m-> 1241\u001b[0m     \u001b[39mreturn\u001b[39;00m \u001b[39mself\u001b[39;49m\u001b[39m.\u001b[39;49mread(nbytes, buffer)\n\u001b[1;32m   1242\u001b[0m \u001b[39melse\u001b[39;00m:\n\u001b[1;32m   1243\u001b[0m     \u001b[39mreturn\u001b[39;00m \u001b[39msuper\u001b[39m()\u001b[39m.\u001b[39mrecv_into(buffer, nbytes, flags)\n",
      "File \u001b[0;32m/Library/Developer/CommandLineTools/Library/Frameworks/Python3.framework/Versions/3.9/lib/python3.9/ssl.py:1099\u001b[0m, in \u001b[0;36mSSLSocket.read\u001b[0;34m(self, len, buffer)\u001b[0m\n\u001b[1;32m   1097\u001b[0m \u001b[39mtry\u001b[39;00m:\n\u001b[1;32m   1098\u001b[0m     \u001b[39mif\u001b[39;00m buffer \u001b[39mis\u001b[39;00m \u001b[39mnot\u001b[39;00m \u001b[39mNone\u001b[39;00m:\n\u001b[0;32m-> 1099\u001b[0m         \u001b[39mreturn\u001b[39;00m \u001b[39mself\u001b[39;49m\u001b[39m.\u001b[39;49m_sslobj\u001b[39m.\u001b[39;49mread(\u001b[39mlen\u001b[39;49m, buffer)\n\u001b[1;32m   1100\u001b[0m     \u001b[39melse\u001b[39;00m:\n\u001b[1;32m   1101\u001b[0m         \u001b[39mreturn\u001b[39;00m \u001b[39mself\u001b[39m\u001b[39m.\u001b[39m_sslobj\u001b[39m.\u001b[39mread(\u001b[39mlen\u001b[39m)\n",
      "\u001b[0;31mKeyboardInterrupt\u001b[0m: "
     ]
    }
   ],
   "source": [
    "for set_no in range(len(all_cases)):\n",
    "    court_code = all_cases[current_set]['court_no']\n",
    "    cases = all_cases[current_set]['cases']\n",
    "    court = all_cases[current_set]['court']\n",
    "    state_code = all_cases[current_set]['state_code']\n",
    "    dist_code = all_cases[current_set]['dist_code']\n",
    "    disp = all_cases[current_set]['disp']\n",
    "    print(f\"Starting {court}, {len(cases)} pending, {fails} failed so far. Set {current_set} of {len(all_cases)}\")\n",
    "\n",
    "    filename = f\"output/{court}_{disp}.csv\"\n",
    "    csv_file = open(filename,'w', encoding='utf-8', newline='')\n",
    "    csvwriter = csv.writer(csv_file)\n",
    "    if current_record == 0:\n",
    "        fields = ['P1','R1', \"CINO\", 'Filing Number', 'Filing Year', 'Filing Date', 'Registration Year','Registration Date', 'Stage','Disposed Date', 'Disposed Year', 'Disposal Reason', 'Doc 1 Name', 'Doc 1 Link', 'Doc 2 Name', 'Doc 2 Link', 'Court']\n",
    "        csvwriter.writerow(fields) \n",
    "    \n",
    "    for x in range(current_record, len(cases)):\n",
    "        print(f\"Processing case {current_record}\", end='\\r')\n",
    "        cino = cases[x]['cino']\n",
    "        case_no = cases[x]['case_no']\n",
    "        #print(current_record, cino, case_no)\n",
    "        for i in range(5):\n",
    "            try:\n",
    "                page, downloaded = get_case_deets(cino, case_no, court_code, state_code, dist_code)\n",
    "                soup = BeautifulSoup(page)\n",
    "                break\n",
    "            except Exception as e:\n",
    "                time.sleep(0.5+i)\n",
    "                print(e, \"Retrying\")\n",
    "        else:\n",
    "            current_record+=1\n",
    "            fails+=1  \n",
    "            continue\n",
    "\n",
    "        \n",
    "        try:\n",
    "            row = process(soup, cino)\n",
    "            \n",
    "            orders = soup.select(\"table.order_table tr\")[1:]\n",
    "            if len(orders) == 0:\n",
    "                orders = []\n",
    "            elif len(orders)<2:\n",
    "                orders = [orders[-1]]\n",
    "            else:\n",
    "                orders = orders[-2:]\n",
    "            \n",
    "            for index, order in enumerate(orders):\n",
    "                details = [x.get_text().strip() for x in order.select('td')]\n",
    "                if not details:\n",
    "                    continue\n",
    "                date = details[-2]\n",
    "                name = details[-1]\n",
    "                query = order.select('a')[0]['href'].replace(\"  \", '%20')\n",
    "                query = query.replace(\" \", \"%20\")\n",
    "           \n",
    "                link = f\"https://services.ecourts.gov.in/ecourtindia_v4_bilingual/cases/{query}\"\n",
    "                \n",
    "                order_name = f\"output/orders/{row[3]} of {row[4]}_{name.title()}_{cino}_{index}.pdf\"\n",
    "                doc = get_case_document(link)\n",
    "                if doc.headers['Content-Type'] == 'application/pdf':\n",
    "                    with open(order_name, 'wb') as f:      \n",
    "                        f.write(doc.content)\n",
    "                        file_name = f'=hyperlink(\"{order_name}\")'\n",
    "                        row.extend([name, file_name])\n",
    "                        \n",
    "                else:\n",
    "                    print(\"No file\", doc.headers['Content-Type'])\n",
    "        except Exception as e:      \n",
    "            fails+=1    \n",
    "\n",
    "        if row != 0:\n",
    "            row.append(court)\n",
    "            csvwriter.writerow(row)\n",
    "                \n",
    "        current_record+=1\n",
    "    print(f\"Processed {current_record} cases\")\n",
    "    csv_file.close()\n",
    "    current_record = 0\n",
    "    current_set = current_set+1\n",
    "    "
   ]
  },
  {
   "cell_type": "code",
   "execution_count": 56,
   "metadata": {},
   "outputs": [
    {
     "name": "stdout",
     "output_type": "stream",
     "text": [
      "There\n"
     ]
    }
   ],
   "source": [
    "print(\"hello\", end='\\r')\n",
    "print(\"There\")\n"
   ]
  },
  {
   "cell_type": "code",
   "execution_count": 77,
   "metadata": {},
   "outputs": [
    {
     "ename": "IndexError",
     "evalue": "list index out of range",
     "output_type": "error",
     "traceback": [
      "\u001b[1;31m---------------------------------------------------------------------------\u001b[0m",
      "\u001b[1;31mIndexError\u001b[0m                                Traceback (most recent call last)",
      "Cell \u001b[1;32mIn [77], line 1\u001b[0m\n\u001b[1;32m----> 1\u001b[0m date \u001b[39m=\u001b[39m orders[\u001b[39m0\u001b[39;49m]\u001b[39m.\u001b[39mselect(\u001b[39m'\u001b[39m\u001b[39mtd\u001b[39m\u001b[39m'\u001b[39m)[\u001b[39m1\u001b[39m]\u001b[39m.\u001b[39mget_text()\u001b[39m.\u001b[39mstrip()\n\u001b[0;32m      2\u001b[0m name \u001b[39m=\u001b[39m orders[\u001b[39m0\u001b[39m]\u001b[39m.\u001b[39mselect(\u001b[39m'\u001b[39m\u001b[39mtd\u001b[39m\u001b[39m'\u001b[39m)[\u001b[39m2\u001b[39m]\u001b[39m.\u001b[39mget_text()\u001b[39m.\u001b[39mstrip()\n\u001b[0;32m      3\u001b[0m link \u001b[39m=\u001b[39m \u001b[39mf\u001b[39m\u001b[39m\"\u001b[39m\u001b[39mhttps://services.ecourts.gov.in/ecourtindia_v4_bilingual/cases/\u001b[39m\u001b[39m{\u001b[39;00mquote(orders[\u001b[39m0\u001b[39m]\u001b[39m.\u001b[39mselect(\u001b[39m'\u001b[39m\u001b[39ma\u001b[39m\u001b[39m'\u001b[39m)[\u001b[39m0\u001b[39m][\u001b[39m'\u001b[39m\u001b[39mhref\u001b[39m\u001b[39m'\u001b[39m])\u001b[39m}\u001b[39;00m\u001b[39m\"\u001b[39m\n",
      "\u001b[1;31mIndexError\u001b[0m: list index out of range"
     ]
    }
   ],
   "source": [
    "date = orders[0].select('td')[1].get_text().strip()\n",
    "name = orders[0].select('td')[2].get_text().strip()\n",
    "link = f\"https://services.ecourts.gov.in/ecourtindia_v4_bilingual/cases/{quote(orders[0].select('a')[0]['href'])}\"\n",
    "doc = get_case_document(link)"
   ]
  },
  {
   "cell_type": "code",
   "execution_count": null,
   "metadata": {},
   "outputs": [],
   "source": []
  },
  {
   "cell_type": "code",
   "execution_count": 24,
   "metadata": {},
   "outputs": [],
   "source": [
    "csv_file.close()"
   ]
  },
  {
   "cell_type": "code",
   "execution_count": 40,
   "metadata": {},
   "outputs": [],
   "source": [
    "s = requests.Session()\n",
    "s.get(\"https://services.ecourts.gov.in/ecourtindia_v4_bilingual/cases/s_actwise.php?state=D&state_cd=26&dist_cd=7#\")\n",
    "\n",
    "def get_case_deets(cino, case_no):\n",
    "    if exists(f\"delhi_case_raw/{current_record}.html\"):\n",
    "      with open(f\"delhi_case_raw/{current_record}.html\", 'r',encoding='utf-8') as f:\n",
    "          #print('Existing reads')\n",
    "          return (f.read(), 1)\n",
    "    \n",
    "    headers = {\n",
    "        'Connection': 'keep-alive',\n",
    "        'sec-ch-ua': '\" Not;A Brand\";v=\"99\", \"Microsoft Edge\";v=\"97\", \"Chromium\";v=\"97\"',\n",
    "        'DNT': '1',\n",
    "        'sec-ch-ua-mobile': '?0',\n",
    "        'User-Agent': 'Mozilla/5.0 (Windows NT 10.0; Win64; x64) AppleWebKit/537.36 (KHTML, like Gecko) Chrome/97.0.4692.71 Safari/537.36 Edg/97.0.1072.55',\n",
    "        'sec-ch-ua-platform': '\"Windows\"',\n",
    "        'Content-Type': 'application/x-www-form-urlencoded',\n",
    "        'Accept': '*/*',\n",
    "        'Origin': 'https://services.ecourts.gov.in',\n",
    "        'Sec-Fetch-Site': 'same-origin',\n",
    "        'Sec-Fetch-Mode': 'cors',\n",
    "        'Sec-Fetch-Dest': 'empty',\n",
    "        'Referer': 'https://services.ecourts.gov.in/',\n",
    "        'Accept-Language': 'en-US,en;q=0.9',\n",
    "        'Cookie': 'PHPSESSID=0s879ntfshbptb80b0hsfrj549'\n",
    "    }\n",
    "\n",
    "    data = {\n",
    "      '__csrf_magic': 'sid:22e25a4a3b8a2c3dd3a08f8c43e207354a236ed2,1641670946',\n",
    "      'state_code': '26',\n",
    "      'dist_code': '7',\n",
    "      'cino': cino,\n",
    "      'case_no': case_no,\n",
    "      'appFlag': '',\n",
    "      'court_code': '1'\n",
    "    }\n",
    "\n",
    "    response = s.post('https://services.ecourts.gov.in/ecourtindia_v4_bilingual/cases/o_civil_case_history.php', headers=headers,data=data)\n",
    "    return (response.content, 0)\n",
    "\n",
    "def get_case_document(link):\n",
    "\n",
    "    headers = {\n",
    "        'Connection': 'keep-alive',\n",
    "        'sec-ch-ua': '\" Not;A Brand\";v=\"99\", \"Microsoft Edge\";v=\"97\", \"Chromium\";v=\"97\"',\n",
    "        'DNT': '1',\n",
    "        'sec-ch-ua-mobile': '?0',\n",
    "        'User-Agent': 'Mozilla/5.0 (Windows NT 10.0; Win64; x64) AppleWebKit/537.36 (KHTML, like Gecko) Chrome/97.0.4692.71 Safari/537.36 Edg/97.0.1072.55',\n",
    "        'sec-ch-ua-platform': '\"Windows\"',\n",
    "        'Content-Type': 'application/x-www-form-urlencoded',\n",
    "        'Accept': '*/*',\n",
    "        'Origin': 'https://services.ecourts.gov.in',\n",
    "        'Sec-Fetch-Site': 'same-origin',\n",
    "        'Sec-Fetch-Mode': 'cors',\n",
    "        'Sec-Fetch-Dest': 'empty',\n",
    "        'Referer': 'https://services.ecourts.gov.in/',\n",
    "        'Accept-Language': 'en-US,en;q=0.9',\n",
    "        'Cookie': 'PHPSESSID=0s879ntfshbptb80b0hsfrj549'\n",
    "\n",
    "    }\n",
    "    response = s.get(link, headers=headers)\n",
    "    return (response)"
   ]
  },
  {
   "cell_type": "code",
   "execution_count": 71,
   "metadata": {},
   "outputs": [],
   "source": [
    "from selenium import webdriver\n",
    "from selenium.webdriver.chrome.service import Service as ChromeService\n",
    "from webdriver_manager.chrome import ChromeDriverManager\n",
    "import os\n",
    "    #initialize browser\n",
    "options = webdriver.ChromeOptions()\n",
    "#options.add_argument('--disable-software-rasterizer')\n",
    "options.add_experimental_option('useAutomationExtension', False)\n",
    "options.add_experimental_option(\"excludeSwitches\", [\"enable-automation\"])\n",
    "options.add_argument('--no-sandbox')\n",
    "options.add_argument('--disable-dev-shm-usage')\n",
    "options.add_argument('--disable-gpu')\n",
    "options.add_argument('--disable-blink-features=AutomationControlled')\n",
    "options.add_argument(\"disable-infobars\")\n",
    "options.add_argument('ignore-certificate-errors')\n",
    "options.add_argument(\"--log-level=3\")\n",
    "options.add_argument(\"--user-agent=Mozilla/5.0 (Windows NT 10.0; Win64; x64) AppleWebKit/537.36 (KHTML, like Gecko) Chrome/108.0.0.0 Safari/537.36\")\n",
    "options.add_experimental_option('prefs', {\n",
    "    \"download.default_directory\": r\"C:\\Users\\darsa\\Desktop\\DS\\khc\\bombay_case_files\", #Change default directory for downloads\n",
    "    \"download.prompt_for_download\": False, #To auto download the file\n",
    "    \"download.directory_upgrade\": True,\n",
    "    # \"plugins.always_open_pdf_externally\": True #It will not show PDF directly in chrome\n",
    "})\n",
    "# options.add_argument(\"--headless\")\n",
    "\n",
    "driver = webdriver.Chrome(service=ChromeService(ChromeDriverManager().install()),options=options)"
   ]
  },
  {
   "cell_type": "code",
   "execution_count": 75,
   "metadata": {},
   "outputs": [],
   "source": [
    "#driver.get(\"https://services.ecourts.gov.in/ecourtindia_v4_bilingual/cases/s_actwise.php?state=D&state_cd=1&dist_cd=23#\")\n",
    "driver.get(\"https://services.ecourts.gov.in/ecourtindia_v4_bilingual/cases/display_pdf.php?filename=/orders/2019/200228002212019_1.pdf&caseno=Police%20cases%20PW/2800221/2019&cCode=1&appFlag=&normal_v=1\")"
   ]
  },
  {
   "cell_type": "code",
   "execution_count": 157,
   "metadata": {},
   "outputs": [
    {
     "name": "stdout",
     "output_type": "stream",
     "text": [
      "{'Connection': 'keep-alive', 'sec-ch-ua': '\" Not;A Brand\";v=\"99\", \"Microsoft Edge\";v=\"97\", \"Chromium\";v=\"97\"', 'DNT': '1', 'sec-ch-ua-mobile': '?0', 'User-Agent': 'Mozilla/5.0 (Windows NT 10.0; Win64; x64) AppleWebKit/537.36 (KHTML, like Gecko) Chrome/97.0.4692.71 Safari/537.36 Edg/97.0.1072.55', 'sec-ch-ua-platform': '\"Windows\"', 'Content-Type': 'application/x-www-form-urlencoded', 'Accept': '*/*', 'Origin': 'https://services.ecourts.gov.in', 'Sec-Fetch-Site': 'same-origin', 'Sec-Fetch-Mode': 'cors', 'Sec-Fetch-Dest': 'empty', 'Referer': 'https://services.ecourts.gov.in/', 'Accept-Language': 'en-US,en;q=0.9', 'Cookie': 'PHPSESSID=0s879ntfshbptb80b0hsfrj549'}\n",
      "C:\\Users\\darsa\\Desktop\\DS\\khc\\delhi_case_files\\2410 of 2017_Copy Of Judgment.pdf\n"
     ]
    }
   ],
   "source": [
    "html, field = get_case_deets(\"DLND010114952017\", \"202000002092017\")\n",
    "soup = BeautifulSoup(html.content)\n",
    "row = process(soup)\n",
    "\n",
    "orders = soup.select(\"table.order_table tr\")[1:]\n",
    "order = orders[-1]\n",
    "date = order.select('td')[1].get_text().strip()\n",
    "name = order.select('td')[2].get_text().strip()\n",
    "link = f\"https://services.ecourts.gov.in/ecourtindia_v4_bilingual/cases/{orders[0].select('a')[0]['href']}\"\n",
    "doc = get_case_document(link)\n",
    "if doc.headers['Content-Type'] == 'application/pdf':\n",
    "    with open(f\"delhi_case_files/{row[12]} of {row[13]}_{name.title()}.pdf\", 'wb') as f:      \n",
    "        f.write(doc.content)\n",
    "        file_name = realpath(f.name)\n",
    "        print(file_name)\n"
   ]
  },
  {
   "cell_type": "code",
   "execution_count": 140,
   "metadata": {},
   "outputs": [
    {
     "data": {
      "text/plain": [
       "{'Date': 'Thu, 27 Oct 2022 10:14:02 GMT', 'Server': '', 'Referrer-Policy': 'strict-origin', 'Expect-CT': 'max-age=3600, enforce', 'X-XSS-Protection': '1; mode=block', 'x-Frame-Options': 'SAMEORIGIN', 'X-Content-Type-Options': 'nosniff', 'Set-Cookie': 'PHPSESSID=fbagu2b80d4r4q1e21124lqgqc; path=/; domain=.services.ecourts.gov.in; secure; HttpOnly; SameSite=Strict', 'Expires': 'Thu, 19 Nov 1981 08:52:00 GMT', 'Cache-Control': 'no-store, no-cache, must-revalidate', 'Pragma': 'no-cache', 'Vary': 'Accept-Encoding,User-Agent', 'content_security_policy': \"script-src 'self'; object-src 'self'; img-src 'self'\", 'Transfer-Encoding': 'chunked', 'Content-Type': 'text/html; charset=utf-8', 'Strict-Transport-Security': 'max-age=31536000; includeSubDomains'}"
      ]
     },
     "execution_count": 140,
     "metadata": {},
     "output_type": "execute_result"
    }
   ],
   "source": [
    "s = requests.Session()\n",
    "s.get(\"https://services.ecourts.gov.in/ecourtindia_v4_bilingual/cases/s_actwise.php?state=D&state_cd=26&dist_cd=7#\").headers\n",
    "#s.get(\"https://services.ecourts.gov.in/ecourtindia_v4_bilingual/cases/display_pdf.php?filename=/orders/2016/202200089262016_2.pdf&caseno=Cr%20Rev/8926/2016&cCode=1&appFlag=&normal_v=1\").headers"
   ]
  },
  {
   "cell_type": "code",
   "execution_count": 91,
   "metadata": {},
   "outputs": [
    {
     "data": {
      "text/plain": [
       "b\"\\r\\n<h2><table border='0' align='center'><td align='center' style='font-color:red;'> Orders is not uploaded for case number SC/372/2019</td></h2>\""
      ]
     },
     "execution_count": 91,
     "metadata": {},
     "output_type": "execute_result"
    }
   ],
   "source": [
    "orders = soup.select(\"table.order_table tr\")[1:]\n",
    "order = orders[-1]\n",
    "date = order.select('td')[1].get_text().strip()\n",
    "doc = order.select('td')[2].get_text().strip()\n",
    "link = f\"https://services.ecourts.gov.in/ecourtindia_v4_bilingual/cases/{orders[0].select('a')[0]['href']}\"\n",
    "[date, doc, link]\n",
    "\n",
    "requests.get(\"https://services.ecourts.gov.in/ecourtindia_v4_bilingual/cases/display_pdf.php?filename=/orders/2019/202300003722019_5.pdf&caseno=SC/372/2019&cCode=1&appFlag=&normal_v=1\").content"
   ]
  },
  {
   "cell_type": "code",
   "execution_count": 97,
   "metadata": {},
   "outputs": [],
   "source": [
    "browser.get(\"https://services.ecourts.gov.in/ecourtindia_v4_bilingual/cases/display_pdf.php?filename=/orders/2019/202300003722019_5.pdf&caseno=SC/372/2019&cCode=1&appFlag=&normal_v=1\")"
   ]
  },
  {
   "cell_type": "code",
   "execution_count": 13,
   "metadata": {},
   "outputs": [],
   "source": []
  },
  {
   "cell_type": "code",
   "execution_count": 143,
   "metadata": {},
   "outputs": [
    {
     "name": "stdout",
     "output_type": "stream",
     "text": [
      "None\n"
     ]
    }
   ],
   "source": [
    "print([].append(\"\"))"
   ]
  },
  {
   "cell_type": "code",
   "execution_count": 85,
   "metadata": {},
   "outputs": [],
   "source": [
    "\n",
    "last_hearing = soup.select(\"body > form > div:nth-child(2) > table.history_table > tr > td\")\n",
    "\n",
    "last_hearing_date = last_hearing[-3].get_text()\n",
    "last_hearing_matter = last_hearing[-1].get_text()"
   ]
  },
  {
   "cell_type": "code",
   "execution_count": 3,
   "metadata": {},
   "outputs": [
    {
     "name": "stderr",
     "output_type": "stream",
     "text": [
      "C:\\Users\\darsa\\AppData\\Local\\Temp\\ipykernel_18764\\2132801124.py:3: DtypeWarning: Columns (23) have mixed types. Specify dtype option on import or set low_memory=False.\n",
      "  df = pd.read_csv(\"2021records_new.csv\")\n"
     ]
    }
   ],
   "source": [
    "import pandas as pd\n",
    "\n",
    "df = pd.read_csv(\"2021records_new.csv\")"
   ]
  },
  {
   "cell_type": "code",
   "execution_count": 9,
   "metadata": {},
   "outputs": [
    {
     "data": {
      "text/plain": [
       "Index(['P1', 'P2', 'P3', 'P4', 'P_Total', 'P_Advocate', 'R1', 'R2', 'R3', 'R4',\n",
       "       'R_Total', 'Filing Number', 'filing_year', 'filing_date',\n",
       "       'registration_number', 'registration_year', 'registration_date', 'cnr',\n",
       "       'judge', 'bench', 'statute', 'provision', 'first_hearing', 'stage',\n",
       "       'category', 'sub_category', 'sub_sub_category', 'last_hearing_date',\n",
       "       'date_dismissed', 'dismissal_type'],\n",
       "      dtype='object')"
      ]
     },
     "execution_count": 9,
     "metadata": {},
     "output_type": "execute_result"
    }
   ],
   "source": [
    "state_filter_list = ['state', 'Karn', 'tahsildar', 'thasildar', 'registrar', 'comm', 'chief', 'director', 'land', 'union', 'inspector', 'police', 'secretary', 'chief', 'engineer']"
   ]
  },
  {
   "cell_type": "code",
   "execution_count": 14,
   "metadata": {},
   "outputs": [
    {
     "data": {
      "text/plain": [
       "sub_category                                       sub_sub_category                               \n",
       "                                                                                                      144\n",
       "APMC-Agrl.Produce (Marketing)Regulation Act ( 2 )                                                      39\n",
       "BDA-Bangalore Development Authority Act ( 3 )                                                         199\n",
       "                                                   PIL-Public Interest Litigation ( 1 )                 3\n",
       "C-Cinema Regulation Act ( 4 )                                                                           3\n",
       "                                                                                                     ... \n",
       "T-Tax Matter ( 21 )                                RES-Residuary ( 112 )                              241\n",
       "                                                   TAR-Central Excise/Customs Act (Tariff) ( 123 )      2\n",
       "T-Tax Matter ( 32 )                                IT-Income Tax Act ( 213 )                            1\n",
       "ULC-Urban Land Ceiling Act ( 12 )                                                                       4\n",
       "sub_sub_category                                   last_hearing_date                                    1\n",
       "Name: P1, Length: 113, dtype: int64"
      ]
     },
     "execution_count": 14,
     "metadata": {},
     "output_type": "execute_result"
    }
   ],
   "source": [
    "df.groupby(['sub_category', 'sub_sub_category'])['P1'].count()"
   ]
  },
  {
   "cell_type": "code",
   "execution_count": 17,
   "metadata": {},
   "outputs": [
    {
     "name": "stdout",
     "output_type": "stream",
     "text": [
      "16319\n"
     ]
    }
   ],
   "source": [
    "import glob\n",
    "files = glob.glob(\"case_files/2018*\")\n",
    "count = 0\n",
    "for fil in files:\n",
    "    with open(fil, 'r') as f:\n",
    "        a = f.read()\n",
    "        if \"403\" in a:\n",
    "            count+=1\n",
    "print(count)\n",
    "fin()"
   ]
  },
  {
   "cell_type": "code",
   "execution_count": 16,
   "metadata": {},
   "outputs": [],
   "source": [
    "import winsound\n",
    "def fin():\n",
    "    duration = 250  # milliseconds\n",
    "    freq = 740  # Hz\n",
    "    for i in range(3):\n",
    "        winsound.Beep(freq, duration)"
   ]
  },
  {
   "cell_type": "code",
   "execution_count": 3,
   "metadata": {},
   "outputs": [],
   "source": [
    "import cv2\n",
    "import pytesseract\n",
    "import numpy as np\n",
    "import string\n",
    "import re\n",
    "\n",
    "def detect_captcha(image):\n",
    "    pytesseract.pytesseract.terreract_cmd = {\n",
    "        r'/usr/bin/tesseract'\n",
    "    }\n",
    "    src = cv2.imdecode(np.frombuffer(image.read(), np.uint8), 1)\n",
    "    ret,img = cv2.threshold(np.array(src), 125, 255, cv2.THRESH_BINARY)\n",
    "    s = pytesseract.image_to_string(img)\n",
    "    output_txt = re.sub(r'[^a-zA-Z0-9]','',s)\n",
    "    return output_txt"
   ]
  },
  {
   "cell_type": "code",
   "execution_count": 19,
   "metadata": {},
   "outputs": [
    {
     "data": {
      "text/plain": [
       "b'{\"con\":\"Invalid Captcha\"}'"
      ]
     },
     "execution_count": 19,
     "metadata": {},
     "output_type": "execute_result"
    }
   ],
   "source": [
    "import requests\n",
    "\n",
    "cookies = {\n",
    "    'PHPSESSID': '3hgqhdc1u5k1a5sl2nrf2doc3c',\n",
    "}\n",
    "\n",
    "headers = {\n",
    "    'Accept': 'application/json, text/javascript, */*; q=0.01',\n",
    "    'Accept-Language': 'en-GB,en-US;q=0.9,en;q=0.8',\n",
    "    'Connection': 'keep-alive',\n",
    "    'Content-Type': 'application/x-www-form-urlencoded; charset=UTF-8',\n",
    "    # 'Cookie': 'PHPSESSID=3hgqhdc1u5k1a5sl2nrf2doc3c',\n",
    "    'Origin': 'https://services.ecourts.gov.in',\n",
    "    'Referer': 'https://services.ecourts.gov.in/',\n",
    "    'Sec-Fetch-Dest': 'empty',\n",
    "    'Sec-Fetch-Mode': 'cors',\n",
    "    'Sec-Fetch-Site': 'same-origin',\n",
    "    'User-Agent': 'Mozilla/5.0 (Macintosh; Intel Mac OS X 10_15_7) AppleWebKit/537.36 (KHTML, like Gecko) Chrome/109.0.0.0 Safari/537.36',\n",
    "    'X-Requested-With': 'XMLHttpRequest',\n",
    "    'sec-ch-ua': '\"Not_A Brand\";v=\"99\", \"Google Chrome\";v=\"109\", \"Chromium\";v=\"109\"',\n",
    "    'sec-ch-ua-mobile': '?0',\n",
    "    'sec-ch-ua-platform': '\"macOS\"',\n",
    "}\n",
    "\n",
    "data = {\n",
    "    'court_codeArr': '17',\n",
    "    'state_code': '1',\n",
    "    'dist_code': '21',\n",
    "    'search_act': '',\n",
    "    'actcode': '215',\n",
    "    'f': 'Pending',\n",
    "    'under_sec': '',\n",
    "    'action_code': 'showRecords',\n",
    "    'captcha': 'wd57fy',\n",
    "    'lang': '',\n",
    "}\n",
    "\n",
    "response = requests.post(\n",
    "    'https://services.ecourts.gov.in/ecourtindia_v4_bilingual/cases/s_actwise_qry.php',\n",
    "    cookies=cookies,\n",
    "    headers=headers,\n",
    "    data=data,\n",
    ")\n",
    "response.content"
   ]
  },
  {
   "cell_type": "code",
   "execution_count": 2,
   "metadata": {},
   "outputs": [],
   "source": [
    "import requests\n",
    "\n",
    "cookies = {\n",
    "    'PHPSESSID': '3hgqhdc1u5k1a5sl2nrf2doc3c',\n",
    "}\n",
    "\n",
    "\n"
   ]
  },
  {
   "cell_type": "code",
   "execution_count": 16,
   "metadata": {},
   "outputs": [
    {
     "data": {
      "text/plain": [
       "'/ecourtindia_v4_bilingual/securimage/securimage_show.php?a5fe4107d8660bff0a75efd489c252ea'"
      ]
     },
     "execution_count": 16,
     "metadata": {},
     "output_type": "execute_result"
    }
   ],
   "source": [
    "\n"
   ]
  },
  {
   "cell_type": "code",
   "execution_count": 6,
   "metadata": {},
   "outputs": [],
   "source": [
    "import io\n",
    "from bs4 import BeautifulSoup\n",
    "from twocaptcha import TwoCaptcha\n",
    "import json\n",
    "import requests\n",
    "import re\n",
    "\n",
    "def get_court_complex_cases(link, section=379):\n",
    "    #Get captcha and site\n",
    "    print(\"Starting \", link)\n",
    "    headers = {\n",
    "    'Accept': 'image/avif,image/webp,image/apng,image/svg+xml,image/*,*/*;q=0.8',\n",
    "    'Accept-Language': 'en-GB,en-US;q=0.9,en;q=0.8',\n",
    "    'Connection': 'keep-alive',\n",
    "    'Referer': 'https://services.ecourts.gov.in/',\n",
    "    'Sec-Fetch-Dest': 'image',\n",
    "    'Sec-Fetch-Mode': 'no-cors',\n",
    "    'Sec-Fetch-Site': 'same-origin',\n",
    "    'User-Agent': 'Mozilla/5.0 (Macintosh; Intel Mac OS X 10_15_7) AppleWebKit/537.36 (KHTML, like Gecko) Chrome/109.0.0.0 Safari/537.36',\n",
    "    'sec-ch-ua': '\"Not_A Brand\";v=\"99\", \"Google Chrome\";v=\"109\", \"Chromium\";v=\"109\"',\n",
    "    'sec-ch-ua-mobile': '?0',\n",
    "    'sec-ch-ua-platform': '\"macOS\"',\n",
    "}\n",
    "    s = requests.session()\n",
    "    resp = s.get(link, headers=headers, timeout=10)\n",
    "\n",
    "    state_code, dist_code = re.findall('=(\\d{1,2})', link)\n",
    "    soup = BeautifulSoup(resp.content)\n",
    "    court_codes = [x.attrs['value'].split(\"@\")[1] for x in soup.find(id='court_complex_code').find_all('option')[1:]]\n",
    "    print(court_codes)\n",
    "    \n",
    "    for court in court_codes:\n",
    "        ActNodata = {\n",
    "            'court_codeArr': court,\n",
    "            'state_code': state_code,\n",
    "            'dist_code': dist_code,\n",
    "            'search_act': '',\n",
    "            'action_code': 'fillActType',\n",
    "\n",
    "        }\n",
    "        response = s.post(\n",
    "            'https://services.ecourts.gov.in/ecourtindia_v4_bilingual/cases/s_actwise_qry.php',\n",
    "            headers=headers,\n",
    "            data=ActNodata,\n",
    "            timeout=5\n",
    "        )\n",
    "        codes = str(response.content).split(\"#\")\n",
    "        actCode = 0\n",
    "        for code in codes:\n",
    "            if \"ipc\" in code.lower() or \"indian penal\" in code.lower():\n",
    "                actCode = code.split(\"~\")[0]\n",
    "                print(actCode, code)\n",
    "\n",
    "        for case_type in ['Pending', 'Disposed']:\n",
    "\n",
    "            solver = TwoCaptcha('3d5411601bd36ac99dab2eeade90f405')\n",
    "            for x in range(3):\n",
    "                try:\n",
    "                    print(f\"Trying {court} and {case_type}\")\n",
    "                    captcha_link = \"https://services.ecourts.gov.in\"+soup.find(id='captcha_image').attrs['src']\n",
    "                    with open('image.png', 'wb') as f:\n",
    "                        f.write(s.get(captcha_link, headers=headers, timeout=10).content)\n",
    "                    captcha = solver.normal('image.png')\n",
    "                    data = {\n",
    "                        'court_codeArr': court,\n",
    "                        'state_code': state_code,\n",
    "                        'dist_code': dist_code,\n",
    "                        'search_act': '',\n",
    "                        'actcode': actCode,\n",
    "                        'f': case_type,\n",
    "                        'under_sec': section,\n",
    "                        'action_code': 'showRecords',\n",
    "                        'captcha': captcha['code'],\n",
    "                        'lang': '',\n",
    "                    }\n",
    "                    print(f\"Data is {data}\")\n",
    "                    response = s.post(\n",
    "                        'https://services.ecourts.gov.in/ecourtindia_v4_bilingual/cases/s_actwise_qry.php',\n",
    "                        headers=headers,\n",
    "                        data=data,\n",
    "                        timeout=5\n",
    "                    )\n",
    "                    \n",
    "                    data = json.loads(response.content)\n",
    "                    if data['con']=='Invalid Captcha':\n",
    "                        \"INVALID\"\n",
    "                        continue\n",
    "                    else: \n",
    "                        break\n",
    "                except Exception as e:\n",
    "                    print(e)\n",
    "                    continue\n",
    "\n",
    "            data['stateCode'] = state_code\n",
    "            data['distCode'] = dist_code\n",
    "            with open(f\"output/case_list/{court}_{state_code}_{dist_code}_{case_type}.txt\", 'w') as f:\n",
    "                f.write(json.dumps(data))\n"
   ]
  },
  {
   "cell_type": "code",
   "execution_count": 7,
   "metadata": {},
   "outputs": [
    {
     "name": "stdout",
     "output_type": "stream",
     "text": [
      "Starting  https://services.ecourts.gov.in/ecourtindia_v4_bilingual/cases/s_actwise.php?state=D&state_cd=1&dist_cd=24\n",
      "['6', '15', '8', '10', '4', '11', '9', '16', '12,13', '5', '7,14', '1,2,3', '17']\n",
      "1 1~INDIAN PENAL CODE\n",
      "Trying 6 and Pending\n",
      "<class 'Exception'>\n",
      "Trying 6 and Pending\n",
      "<class 'Exception'>\n",
      "Trying 6 and Pending\n",
      "<class 'Exception'>\n"
     ]
    },
    {
     "ename": "UnboundLocalError",
     "evalue": "local variable 'data' referenced before assignment",
     "output_type": "error",
     "traceback": [
      "\u001b[0;31m---------------------------------------------------------------------------\u001b[0m",
      "\u001b[0;31mUnboundLocalError\u001b[0m                         Traceback (most recent call last)",
      "Cell \u001b[0;32mIn[7], line 3\u001b[0m\n\u001b[1;32m      1\u001b[0m links \u001b[39m=\u001b[39m [\u001b[39m\"\u001b[39m\u001b[39mhttps://services.ecourts.gov.in/ecourtindia_v4_bilingual/cases/s_actwise.php?state=D&state_cd=1&dist_cd=24\u001b[39m\u001b[39m\"\u001b[39m]\n\u001b[1;32m      2\u001b[0m \u001b[39mtry\u001b[39;00m:\n\u001b[0;32m----> 3\u001b[0m     get_court_complex_cases(links[\u001b[39m0\u001b[39;49m])\n\u001b[1;32m      4\u001b[0m \u001b[39mexcept\u001b[39;00m requests\u001b[39m.\u001b[39mTimeout:\n\u001b[1;32m      5\u001b[0m     \u001b[39mprint\u001b[39m(\u001b[39m\"\u001b[39m\u001b[39mTIMEOUT\u001b[39m\u001b[39m\"\u001b[39m)\n",
      "Cell \u001b[0;32mIn[6], line 94\u001b[0m, in \u001b[0;36mget_court_complex_cases\u001b[0;34m(link, section)\u001b[0m\n\u001b[1;32m     91\u001b[0m         \u001b[39mprint\u001b[39m(\u001b[39mException\u001b[39;00m)\n\u001b[1;32m     92\u001b[0m         \u001b[39mcontinue\u001b[39;00m\n\u001b[0;32m---> 94\u001b[0m data[\u001b[39m'\u001b[39m\u001b[39mstateCode\u001b[39m\u001b[39m'\u001b[39m] \u001b[39m=\u001b[39m state_code\n\u001b[1;32m     95\u001b[0m data[\u001b[39m'\u001b[39m\u001b[39mdistCode\u001b[39m\u001b[39m'\u001b[39m] \u001b[39m=\u001b[39m dist_code\n\u001b[1;32m     96\u001b[0m \u001b[39mwith\u001b[39;00m \u001b[39mopen\u001b[39m(\u001b[39mf\u001b[39m\u001b[39m\"\u001b[39m\u001b[39moutput/case_list/\u001b[39m\u001b[39m{\u001b[39;00mcourt\u001b[39m}\u001b[39;00m\u001b[39m_\u001b[39m\u001b[39m{\u001b[39;00mstate_code\u001b[39m}\u001b[39;00m\u001b[39m_\u001b[39m\u001b[39m{\u001b[39;00mdist_code\u001b[39m}\u001b[39;00m\u001b[39m_\u001b[39m\u001b[39m{\u001b[39;00mcase_type\u001b[39m}\u001b[39;00m\u001b[39m.txt\u001b[39m\u001b[39m\"\u001b[39m, \u001b[39m'\u001b[39m\u001b[39mw\u001b[39m\u001b[39m'\u001b[39m) \u001b[39mas\u001b[39;00m f:\n",
      "\u001b[0;31mUnboundLocalError\u001b[0m: local variable 'data' referenced before assignment"
     ]
    }
   ],
   "source": [
    "links = [\"https://services.ecourts.gov.in/ecourtindia_v4_bilingual/cases/s_actwise.php?state=D&state_cd=1&dist_cd=24\"]\n",
    "try:\n",
    "    get_court_complex_cases(links[0])\n",
    "except requests.Timeout:\n",
    "    print(\"TIMEOUT\")\n"
   ]
  },
  {
   "cell_type": "code",
   "execution_count": 14,
   "metadata": {},
   "outputs": [
    {
     "ename": "NameError",
     "evalue": "name 'resp' is not defined",
     "output_type": "error",
     "traceback": [
      "\u001b[0;31m---------------------------------------------------------------------------\u001b[0m",
      "\u001b[0;31mNameError\u001b[0m                                 Traceback (most recent call last)",
      "Cell \u001b[0;32mIn[14], line 1\u001b[0m\n\u001b[0;32m----> 1\u001b[0m soup \u001b[39m=\u001b[39m BeautifulSoup(resp\u001b[39m.\u001b[39mcontent)\n\u001b[1;32m      2\u001b[0m [x\u001b[39m.\u001b[39mattrs[\u001b[39m'\u001b[39m\u001b[39mvalue\u001b[39m\u001b[39m'\u001b[39m]\u001b[39m.\u001b[39msplit(\u001b[39m\"\u001b[39m\u001b[39m@\u001b[39m\u001b[39m\"\u001b[39m)[\u001b[39m1\u001b[39m] \u001b[39mfor\u001b[39;00m x \u001b[39min\u001b[39;00m soup\u001b[39m.\u001b[39mfind(\u001b[39mid\u001b[39m\u001b[39m=\u001b[39m\u001b[39m'\u001b[39m\u001b[39mcourt_complex_code\u001b[39m\u001b[39m'\u001b[39m)\u001b[39m.\u001b[39mfind_all(\u001b[39m'\u001b[39m\u001b[39moption\u001b[39m\u001b[39m'\u001b[39m) \u001b[39mif\u001b[39;00m \u001b[39mlen\u001b[39m(x)\u001b[39m>\u001b[39m\u001b[39m1\u001b[39m]\n",
      "\u001b[0;31mNameError\u001b[0m: name 'resp' is not defined"
     ]
    }
   ],
   "source": [
    "soup = BeautifulSoup(resp.content)\n",
    "[x.attrs['value'].split(\"@\")[1] for x in soup.find(id='court_complex_code').find_all('option') if len(x)>1]"
   ]
  },
  {
   "cell_type": "code",
   "execution_count": 11,
   "metadata": {},
   "outputs": [
    {
     "name": "stdout",
     "output_type": "stream",
     "text": [
      "1\n"
     ]
    }
   ],
   "source": [
    "data = {\n",
    "    'court_codeArr': '17',\n",
    "    'state_code': '1',\n",
    "    'dist_code': '21',\n",
    "    'search_act': '',\n",
    "    'actcode': '1',\n",
    "    'f': 'Pending',\n",
    "    'under_sec': '379',\n",
    "    'action_code': 'fillActType',\n",
    "\n",
    "}\n",
    "\n",
    "response = s.post(\n",
    "    'https://services.ecourts.gov.in/ecourtindia_v4_bilingual/cases/s_actwise_qry.php',\n",
    "    headers=headers,\n",
    "    data=data,\n",
    ")\n",
    "codes = str(response.content).split(\"#\")\n",
    "for code in codes:\n",
    "    if \"ipc\" in code.lower() or \"indian penal\" in code.lower():\n",
    "        print(code.split(\"~\")[0])"
   ]
  },
  {
   "cell_type": "code",
   "execution_count": 7,
   "metadata": {},
   "outputs": [
    {
     "name": "stdout",
     "output_type": "stream",
     "text": [
      "Processing 124264 cases total\n"
     ]
    }
   ],
   "source": [
    "import glob\n",
    "all_files = glob.glob(\"output/case_list/*.txt\")\n",
    "all_cases = []\n",
    "for file in all_files:\n",
    "    with open(file, 'r') as f:\n",
    "        if '_Disp' in file:\n",
    "            disp=\"disposed\"\n",
    "        else:\n",
    "            disp=\"pending\"\n",
    "\n",
    "        x = json.loads(f.read())\n",
    "        for cases, court_code, court in zip(x['con'], x['court_code'], x['courtNameArr']):\n",
    "            if(cases and court_code and court):\n",
    "                all_cases.append({\n",
    "                'court_no': court_code,\n",
    "                'cases': json.loads(cases),\n",
    "                'court': court,\n",
    "                'state_code': x['stateCode'],\n",
    "                'dist_code': x['distCode'],\n",
    "                'disp': disp\n",
    "            })\n",
    "count = 0\n",
    "for cases in all_cases:\n",
    "    count+=len(cases['cases'])\n",
    "\n",
    "print(f\"Processing {count} cases total\")"
   ]
  }
 ],
 "metadata": {
  "kernelspec": {
   "display_name": "env",
   "language": "python",
   "name": "python3"
  },
  "language_info": {
   "codemirror_mode": {
    "name": "ipython",
    "version": 3
   },
   "file_extension": ".py",
   "mimetype": "text/x-python",
   "name": "python",
   "nbconvert_exporter": "python",
   "pygments_lexer": "ipython3",
   "version": "3.9.6"
  },
  "orig_nbformat": 4,
  "vscode": {
   "interpreter": {
    "hash": "c86f80b74ba1221df2a0c2f37486b2ee099c053b7c54f6be3e60bb7c9fb29984"
   }
  }
 },
 "nbformat": 4,
 "nbformat_minor": 2
}
